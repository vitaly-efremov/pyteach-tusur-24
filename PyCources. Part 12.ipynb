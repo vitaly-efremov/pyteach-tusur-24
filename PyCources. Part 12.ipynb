{
 "cells": [
  {
   "cell_type": "markdown",
   "metadata": {},
   "source": [
    "# 12. Объектно-ориентированное программирование на языке Python\n",
    "\n",
    "**Классы и объекты** - это два основных аспекта объектно-ориентированного программирования. Класс создаёт новый тип, а объекты являются экземплярами класса.\n",
    "\n",
    "Объекты могут хранить данные в обычных переменных, которые принадлежат объекту. Переменные, принадлежащие объекту или классу, называют **полями**. Объекты могут также обладать функционалом, т.е. иметь функции, принадлежащие классу. Такие функции принято называть **методами** класса. Всё вместе (поля и методы) принято называть **атрибутами** класса.\n",
    "\n",
    "Поля бывают двух типов: они могут принадлежать каждому отдельному экземпляру объекта класса или всему классу. Они называются **переменными экземпляра** и **переменными класса** соответственно.\n",
    "\n",
    "<img width=\"60%\" height=\"60%\" src=\"https://upload.wikimedia.org/wikipedia/commons/thumb/9/98/CPT-OOP-objects_and_classes_-_attmeth.svg/1920px-CPT-OOP-objects_and_classes_-_attmeth.svg.png\">\n",
    "\n",
    "**Абстракция** — это выделение общих характеристик объектов, их свойств и методов, игнорируя детали реализации.\n",
    "\n",
    "<img src=\"img/oop-abstraction.png\">\n"
   ]
  },
  {
   "cell_type": "markdown",
   "metadata": {},
   "source": [
    "## 12.1 Классы\n",
    "\n",
    "**Класс** <a href='https://habrahabr.ru/post/87119/'>[1]</a> – это способ описания сущности, определяющий состояние и поведение, зависящее от этого состояния, а также правила для взаимодействия с данной сущностью (контракт).\n",
    "\n",
    "**Пример**. Класс будет отображать сущность – автомобиль. Атрибутами класса будут являться двигатель, подвеска, кузов, четыре колеса и т.д. Методами класса будет «открыть дверь», «нажать на педаль газа», а также «закачать порцию бензина из бензобака в двигатель». Первые два метода доступны для выполнения другим классам (в частности, классу «Водитель»). Последний описывает взаимодействия внутри класса и не доступен пользователю.\n"
   ]
  },
  {
   "cell_type": "code",
   "execution_count": 5,
   "metadata": {
    "tags": []
   },
   "outputs": [],
   "source": [
    "class Person:\n",
    "    pass\n"
   ]
  },
  {
   "cell_type": "markdown",
   "metadata": {},
   "source": [
    "## 12.2 Объекты\n",
    "**Объект (экземпляр)** – это отдельный представитель класса, имеющий конкретное состояние и поведение, полностью определяемое классом.\n",
    "\n",
    "Объект имеет конкретные значения атрибутов и методы, работающие с этими значениями на основе правил, заданных в классе. В приведенном примере, если класс – это некоторый абстрактный автомобиль из «мира идей», то объект – это конкретный автомобиль, стоящий под окнами.\n",
    "\n",
    "\n",
    "<img src=\"img/oop-car-object.jpeg\">\n"
   ]
  },
  {
   "cell_type": "code",
   "execution_count": 7,
   "metadata": {},
   "outputs": [
    {
     "name": "stdout",
     "output_type": "stream",
     "text": [
      "<__main__.Person object at 0x10824f560>\n",
      "<__main__.Person object at 0x1081ffec0>\n",
      "<__main__.Person object at 0x1081ffec0>\n",
      "<__main__.Person object at 0x1081ffec0>\n"
     ]
    }
   ],
   "source": [
    "petr = Person()\n",
    "print(petr)\n",
    "ivan = Person()\n",
    "print(ivan)\n",
    "print(ivan.__str__())  # do not use\n",
    "print(str(ivan))  # use this"
   ]
  },
  {
   "cell_type": "markdown",
   "metadata": {},
   "source": [
    "## 12.3 Self\n",
    "\n",
    "Методы класса имеют одно отличие от обычных функций: они должны иметь дополнительно имя, добавляемое к началу списка параметров. Однако, при вызове метода никакого значения этому параметру присваивать не нужно – его укажет Python. Эта **переменная указывает на сам объект экземпляра класса, и по традиции она называется self**.\n",
    "\n",
    "myobject.method(arg1, arg2) == MyClass.method(myobject, arg1, arg2)"
   ]
  },
  {
   "cell_type": "markdown",
   "metadata": {},
   "source": [
    "## 12.4 Конструктор\n",
    "\n",
    "**Конструктор класса** — специальный блок инструкций, вызываемый при создании объекта. В Python это **```__init__```** метод."
   ]
  },
  {
   "cell_type": "code",
   "execution_count": 15,
   "metadata": {},
   "outputs": [
    {
     "name": "stdout",
     "output_type": "stream",
     "text": [
      "Hi, Petr Ivanov None\n",
      "Hi, Petr Petrov\n",
      "Hi, Masha Petrova\n"
     ]
    }
   ],
   "source": [
    "class Person:\n",
    "    def __init__(self, name, surname, surname2=None):\n",
    "        self.name = name\n",
    "        self.surname = surname\n",
    "        self.surname2 = surname2\n",
    "        self.age = None\n",
    "\n",
    "\n",
    "petr = Person(name='Petr', surname='Petrov')\n",
    "petr.surname = 'Ivanov'\n",
    "persons = [\n",
    "    Person('Petr', 'Petrov'), \n",
    "    Person('Masha', 'Petrova')\n",
    "]\n",
    "numbers = [int(1), int(2)]\n",
    "numbers = [1, 2]\n",
    "\n",
    "print('Hi, %s %s %s' % (petr.name, petr.surname, petr.surname2))\n",
    "\n",
    "for person in [Person('Petr', 'Petrov'), Person('Masha', 'Petrova')]:\n",
    "    print('Hi, %s %s' % (person.name, person.surname))"
   ]
  },
  {
   "cell_type": "code",
   "execution_count": 24,
   "metadata": {},
   "outputs": [
    {
     "data": {
      "text/plain": [
       "str"
      ]
     },
     "execution_count": 24,
     "metadata": {},
     "output_type": "execute_result"
    }
   ],
   "source": [
    "# type - метакласс или конструктор классов\n",
    "type('bc')\n",
    "# help(type)"
   ]
  },
  {
   "cell_type": "markdown",
   "metadata": {},
   "source": [
    "## 12.5 Методы"
   ]
  },
  {
   "cell_type": "code",
   "execution_count": 29,
   "metadata": {
    "tags": []
   },
   "outputs": [],
   "source": [
    "   \n",
    "class Engine:\n",
    "    def __init__(self, power):\n",
    "        self.power = power\n",
    "        self.rotation = 0\n",
    "        self.__id = None\n",
    "        \n",
    "    def start(self):\n",
    "        self.rotation = 800\n",
    "\n",
    "    def stop(self):\n",
    "        self.rotation = 0\n",
    "    \n",
    "    def go(self, speed):\n",
    "        if not self.rotation:\n",
    "            self.start()\n",
    "        self.rotation = (3000 * speed)/self.power\n",
    "    \n",
    "\n",
    "class Car:\n",
    "    def __init__(self, engine: Engine, wheels: int = 4):\n",
    "        self.__engine = engine  # private field\n",
    "        self.wheels = wheels  # public field\n",
    "        self.__speed: int = 0  # private field\n",
    "        self._id = None  # protected field \n",
    "        self.__color = 'black'\n",
    "    \n",
    "    def go(self, acceleration_speed=20):\n",
    "        if self.__engine:\n",
    "            self.__speed += acceleration_speed\n",
    "            self.__engine.go(self.__speed)\n",
    "            print(self.status)\n",
    "        else:\n",
    "            print('Ops, looks like you forgot to insert engine, '\n",
    "                  'please do this before going anywhere.')\n",
    "    \n",
    "    def brake(self, braking_speed=20):\n",
    "        self.__speed -= braking_speed\n",
    "        if self.__speed < 0:\n",
    "            self.__speed = 0\n",
    "        self.engine.rotation -= braking_speed*8\n",
    "        print(self.status)\n",
    "\n",
    "    def remove_wheel(self):\n",
    "        if self.wheels:\n",
    "            self.wheels -= 1\n",
    "    \n",
    "    def add_wheel(self):\n",
    "        self.wheels += 1\n",
    "    \n",
    "    def upgrade_engine(self, power):\n",
    "        self.__engine.power += power\n",
    "    \n",
    "    def get_engine(self) -> Engine:\n",
    "        return self.__engine\n",
    "\n",
    "    def set_engine(self, engine: Engine):\n",
    "        if self.__speed:\n",
    "            print('Car speed is not 0 so it is impossible')\n",
    "            return\n",
    "        self.__engine = engine\n",
    "\n",
    "    @property\n",
    "    def speed(self):\n",
    "        return self.__speed\n",
    "    \n",
    "    @property\n",
    "    def color(self):\n",
    "        return self.__color\n",
    "    \n",
    "    @color.setter\n",
    "    def color(self, value: str):\n",
    "        if value not in ('red', 'blue', 'black'):\n",
    "            print(f'Invalid color {value}')\n",
    "            return\n",
    "        self.__color = value\n",
    "    \n",
    "    def get_status(self):\n",
    "        rotation = self.__engine.rotation if self.__engine else None\n",
    "        return \"Yeaah, we're driging so fast, \" \\\n",
    "               \"our speed is %d, rotation is %d, color is %s\" % (self.__speed, rotation, self.color)\n",
    "\n",
    "    @property\n",
    "    def status(self):\n",
    "        return self.get_status()\n",
    "        "
   ]
  },
  {
   "cell_type": "code",
   "execution_count": 30,
   "metadata": {},
   "outputs": [
    {
     "name": "stdout",
     "output_type": "stream",
     "text": [
      "Ops, looks like you forgot to insert engine, please do this before going anywhere.\n",
      "Yeaah, we're driging so fast, our speed is 100, rotation is 3000, color is black\n",
      "Yeaah, we're driging so fast, our speed is 300, rotation is 9000, color is black\n",
      "Yeaah, we're driging so fast, our speed is 320, rotation is 6400, color is red\n",
      "Invalid color green\n",
      "Yeaah, we're driging so fast, our speed is 320, rotation is 3840, color is red\n",
      "Car speed is not 0 so it is impossible\n",
      "Yeaah, we're driging so fast, our speed is 320, rotation is 3840, color is red\n",
      "Status: Yeaah, we're driging so fast, our speed is 320, rotation is 3840, color is red\n",
      "Status (property): Yeaah, we're driging so fast, our speed is 320, rotation is 3840, color is red\n",
      "Engine: <__main__.Engine object at 0x10819eb40>\n",
      "ID: None\n",
      "Speed: 320\n",
      "Status: Yeaah, we're driging so fast, our speed is 320, rotation is 3840, color is red\n",
      "320\n"
     ]
    },
    {
     "ename": "AttributeError",
     "evalue": "'Car' object has no attribute '__speed'",
     "output_type": "error",
     "traceback": [
      "\u001b[0;31m---------------------------------------------------------------------------\u001b[0m",
      "\u001b[0;31mAttributeError\u001b[0m                            Traceback (most recent call last)",
      "Cell \u001b[0;32mIn[30], line 29\u001b[0m\n\u001b[1;32m     27\u001b[0m \u001b[38;5;28mprint\u001b[39m(\u001b[38;5;124m'\u001b[39m\u001b[38;5;124mStatus:\u001b[39m\u001b[38;5;124m'\u001b[39m, my_car\u001b[38;5;241m.\u001b[39mget_status())\n\u001b[1;32m     28\u001b[0m \u001b[38;5;28mprint\u001b[39m(my_car\u001b[38;5;241m.\u001b[39mspeed)\n\u001b[0;32m---> 29\u001b[0m \u001b[38;5;28mprint\u001b[39m(\u001b[43mmy_car\u001b[49m\u001b[38;5;241;43m.\u001b[39;49m\u001b[43m__speed\u001b[49m)\n",
      "\u001b[0;31mAttributeError\u001b[0m: 'Car' object has no attribute '__speed'"
     ]
    }
   ],
   "source": [
    "my_car = Car(engine=None, wheels=2)\n",
    "\n",
    "my_car.go(100)\n",
    "\n",
    "my_car.set_engine(engine=Engine(100))\n",
    "my_car.go(100)\n",
    "my_car.go(200)\n",
    "\n",
    "my_car.color = 'red'\n",
    "my_car.upgrade_engine(50)\n",
    "my_car.go()\n",
    "\n",
    "my_car.color = 'green'\n",
    "my_car.upgrade_engine(100)\n",
    "my_car.go(0)\n",
    "\n",
    "my_car.set_engine(engine=None)\n",
    "\n",
    "my_car.go(0)\n",
    "print('Status:', my_car.get_status())\n",
    "print('Status (property):', my_car.status)\n",
    "\n",
    "print('Engine:', my_car.get_engine())\n",
    "\n",
    "print('ID:', my_car._id)\n",
    "print('Speed:', my_car._Car__speed) # __speed -> _Car__speed\n",
    "print('Status:', my_car.get_status())\n",
    "print(my_car.speed)\n",
    "print(my_car.__speed)\n"
   ]
  },
  {
   "cell_type": "code",
   "execution_count": 51,
   "metadata": {},
   "outputs": [
    {
     "name": "stdout",
     "output_type": "stream",
     "text": [
      "Yeaah, we're driging so fast, our speed is 300, rotation is 3680\n",
      "Yeaah, we're driging so fast, our speed is 100, rotation is 2080\n",
      "Yeaah, we're driging so fast, our speed is 0, rotation is 480\n"
     ]
    }
   ],
   "source": [
    "my_car.brake()\n",
    "my_car.brake(200)\n",
    "my_car.brake(200)\n"
   ]
  },
  {
   "cell_type": "code",
   "execution_count": 3,
   "metadata": {},
   "outputs": [],
   "source": [
    "dir(my_car)"
   ]
  },
  {
   "cell_type": "markdown",
   "metadata": {},
   "source": [
    "## 12.6 Переменные класса и объекта\n",
    "\n",
    "Поля можно воспринимать как обычные переменные, заключённые в **пространствах имён** классов и объектов. Их имена действительны только в контексте (пространстве имен) этих классов или объектов.\n",
    "\n",
    "**Переменные класса разделяемы** – доступ к ним могут получать все экземпляры этого класса. Переменная класса существует только одна, поэтому когда любой из объектов изменяет переменную класса, это изменение отразится и во всех остальных экземплярах класса.\n",
    "\n",
    "**Переменные объекта** принадлежат каждому отдельному экземпляру класса. В этом случае у каждого объекта есть своя собственная копия поля, т.е. не разделяемая с другими такими же полями в других экземплярах. Доступ к полям объекта осуществляется через переменную **self**."
   ]
  },
  {
   "cell_type": "code",
   "execution_count": 13,
   "metadata": {},
   "outputs": [
    {
     "name": "stdout",
     "output_type": "stream",
     "text": [
      "  **Инициализация R2-D2**\n",
      "Приветствую! Мои хозяева называют меня R2-D2.\n",
      "Alternative\n",
      "Приветствую! Мои хозяева называют меня R2-D2.\n",
      "Population: 1\n",
      "У нас 1 роботов.\n",
      "У нас 1 роботов.\n",
      "У нас 1 роботов.\n",
      "  **Инициализация C-3PO**\n",
      "Приветствую! Мои хозяева называют меня C-3PO.\n",
      "У нас 2 роботов.\n",
      "У нас 2 роботов.\n",
      "У нас 2 роботов.\n"
     ]
    },
    {
     "data": {
      "text/plain": [
       "2"
      ]
     },
     "execution_count": 13,
     "metadata": {},
     "output_type": "execute_result"
    }
   ],
   "source": [
    "class Robot:\n",
    "    population: int = 0\n",
    "\n",
    "    def __init__(self, name: str):\n",
    "        self.name = name\n",
    "        print('  **Инициализация %s**' % self.name)\n",
    "        Robot.population += 1\n",
    "        \n",
    "    def say_hi(self):\n",
    "        print('Приветствую! Мои хозяева называют меня %s.' % self.name)\n",
    "\n",
    "    def how_many(self):\n",
    "        print('У нас %d роботов.' % Robot.population)\n",
    "        \n",
    "    @staticmethod\n",
    "    def how_many_v2():\n",
    "        print('У нас %d роботов.' % Robot.population)\n",
    "   \n",
    "    @classmethod\n",
    "    def how_many_v3(cls):\n",
    "        print('У нас %d роботов.' % cls.population)\n",
    "\n",
    "    @classmethod\n",
    "    def count(cls):\n",
    "        return cls.population\n",
    "\n",
    "droid1 = Robot('R2-D2')\n",
    "droid1.say_hi()\n",
    "print('Alternative')\n",
    "Robot.say_hi(self=droid1)\n",
    "\n",
    "print('Population:', Robot.population)\n",
    "# Robot.population = 31\n",
    "\n",
    "droid1.how_many()\n",
    "\n",
    "Robot.how_many_v2()\n",
    "Robot.how_many_v3()\n",
    "\n",
    "droid2 = Robot('C-3PO')\n",
    "droid2.say_hi()\n",
    "droid1.how_many()\n",
    "droid1.how_many_v2()\n",
    "Robot.how_many_v2()\n",
    "\n",
    "Robot.count() # total"
   ]
  },
  {
   "cell_type": "code",
   "execution_count": 24,
   "metadata": {},
   "outputs": [
    {
     "name": "stdout",
     "output_type": "stream",
     "text": [
      "3\n",
      "3\n",
      "1\n",
      "4\n",
      "4\n"
     ]
    }
   ],
   "source": [
    "print(len([1, 2, 3]))\n",
    "print(len((1, 2, 3)))\n",
    "print(len({'a': 1}))\n",
    "\n",
    "print(len('abcd'))\n",
    "# do not use in practice\n",
    "print('abcd'.__len__())\n",
    "\n",
    "# print(len(Robot))"
   ]
  },
  {
   "cell_type": "code",
   "execution_count": 44,
   "metadata": {},
   "outputs": [
    {
     "name": "stdout",
     "output_type": "stream",
     "text": [
      "  **Инициализация R2-D2**\n",
      "Приветствую! Мои хозяева называют меня R2-D2.\n",
      "У вас 1 роботов.\n",
      "  **Инициализация C-3PO**\n",
      "Приветствую! Мои хозяева называют меня C-3PO.\n",
      "У вас 2 роботов.\n"
     ]
    },
    {
     "data": {
      "text/plain": [
       "2"
      ]
     },
     "execution_count": 44,
     "metadata": {},
     "output_type": "execute_result"
    }
   ],
   "source": [
    "class Robot:\n",
    "    __population = 0\n",
    "\n",
    "    def __init__(self, name):\n",
    "        self.name = name\n",
    "        print(f'  **Инициализация {self.name}**')\n",
    "        Robot.__population += 1\n",
    "        \n",
    "    def say_hi(self):\n",
    "        print(f'Приветствую! Мои хозяева называют меня {self.name}.')\n",
    "    \n",
    "    @classmethod\n",
    "    @property\n",
    "    def total(cls):\n",
    "        return cls.__population\n",
    "    \n",
    "    @classmethod\n",
    "    def __len__(cls) -> int:\n",
    "        return cls.__population\n",
    "    \n",
    "\n",
    "droid1 = Robot('R2-D2')\n",
    "droid1.say_hi()\n",
    "print('У вас %d роботов.' % len(droid1))\n",
    "\n",
    "droid2 = Robot('C-3PO')\n",
    "droid2.say_hi()\n",
    "print('У вас %d роботов.' % len(droid2))\n",
    "# Robot.__population\n",
    "\n",
    "# print('У вас %d роботов.' % Robot.__len__())\n",
    "\n",
    "Robot.total"
   ]
  },
  {
   "cell_type": "code",
   "execution_count": 7,
   "metadata": {},
   "outputs": [
    {
     "name": "stdout",
     "output_type": "stream",
     "text": [
      "У вас 2 роботов.\n"
     ]
    }
   ],
   "source": [
    "def how_many(cls):\n",
    "    return cls.__len__()\n",
    "\n",
    "robots_count = how_many(Robot)\n",
    "print('У вас %d роботов.' % robots_count)"
   ]
  },
  {
   "cell_type": "markdown",
   "metadata": {},
   "source": [
    "## 12.7 Наследование\n",
    "\n",
    "**Наследование** — концепция объектно-ориентированного программирования, согласно которой абстрактный тип данных может наследовать данные и функциональность некоторого существующего типа, способствуя повторному использованию компонентов программного обеспечения.\n",
    "<img src=\"img/oop-car-inheritance.jpeg\">"
   ]
  },
  {
   "cell_type": "code",
   "execution_count": 53,
   "metadata": {},
   "outputs": [
    {
     "name": "stdout",
     "output_type": "stream",
     "text": [
      "Camry Car (24264$): power = 211, material = super iron, wheels = 5, color = Toyota inc secret color \"black\"\n",
      "LX 570 Car (42780$): power = 300, material = super iron, wheels = 4, color = Toyota inc secret color \"pink\"\n",
      "5\n",
      "total_price = 68045.0\n"
     ]
    },
    {
     "data": {
      "text/plain": [
       "(__main__.Lexus,\n",
       " __main__.Toyota,\n",
       " __main__.Car,\n",
       " abc.ABC,\n",
       " __main__.WheelsMixin,\n",
       " object)"
      ]
     },
     "execution_count": 53,
     "metadata": {},
     "output_type": "execute_result"
    }
   ],
   "source": [
    "import abc\n",
    "\n",
    "class Car(abc.ABC):\n",
    "    def __init__(self, engine_power, material='iron', wheels=4):\n",
    "        self.engine_power = engine_power\n",
    "        self.wheels = wheels\n",
    "        self.material = material\n",
    "        \n",
    "        self._color = 'transparent'\n",
    "    \n",
    "    @abc.abstractmethod\n",
    "    def paint(self, color):\n",
    "        pass\n",
    "        \n",
    "    def get_price(self):\n",
    "        price = self.engine_power * 100 if self.engine_power else 0\n",
    "        return price\n",
    "\n",
    "    def __str__(self):\n",
    "        return 'Car (%d$): power = %d, material = %s, wheels = %d, color = %s' % \\\n",
    "               (self.get_price(), self.engine_power, self.material, self.wheels, self._color)\n",
    "\n",
    "    def __repr__(self):\n",
    "        return f'{self.__class__.__name__}(engine_power={self.engine_power}, material=\"{self.material}\", wheels={self.wheels})'\n",
    "    \n",
    "\n",
    "class Toyota(Car):\n",
    "    def __init__(self, engine_power, material='iron', **kwargs):\n",
    "        super().__init__(engine_power, material='super iron', **kwargs)\n",
    "\n",
    "    def get_price(self):\n",
    "        return super().get_price() * 1.15\n",
    "\n",
    "    def paint(self, color):\n",
    "        self._color = 'Toyota inc secret color \"%s\"' % color \n",
    "\n",
    "\n",
    "class WheelsMixin:\n",
    "    def add_wheels(self, count=1):\n",
    "        self.wheels += count\n",
    "\n",
    "    def remove_wheels(self, count=1):\n",
    "        self.wheels -= count\n",
    "\n",
    "        \n",
    "class Lexus(Toyota, WheelsMixin):\n",
    "    def get_price(self):\n",
    "        return super().get_price() * 1.24\n",
    "\n",
    "\n",
    "class Bicycle:\n",
    "    def get_price(self):\n",
    "        return 1000\n",
    "    \n",
    "camry = Toyota(211, wheels=5)\n",
    "\n",
    "camry.paint('black')\n",
    "print('Camry', camry)\n",
    "\n",
    "lx570 = Lexus(300)\n",
    "lx570.paint('pink')\n",
    "print('LX 570', lx570)\n",
    "\n",
    "lx570.add_wheels()\n",
    "print(lx570.wheels)\n",
    "\n",
    "cars = [camry, lx570, Bicycle()]\n",
    "\n",
    "total_price = sum(car.get_price() for car in cars)\n",
    "print(f'total_price = {total_price}')\n",
    "\n",
    "Lexus.__mro__"
   ]
  },
  {
   "cell_type": "code",
   "execution_count": 50,
   "metadata": {},
   "outputs": [
    {
     "name": "stdout",
     "output_type": "stream",
     "text": [
      "Toyota(engine_power=211, material=\"super iron\", wheels=5)\n"
     ]
    },
    {
     "data": {
      "text/plain": [
       "Toyota(engine_power=211, material=\"super iron\", wheels=5)"
      ]
     },
     "execution_count": 50,
     "metadata": {},
     "output_type": "execute_result"
    }
   ],
   "source": [
    "print(repr(camry))\n",
    "Toyota(engine_power=211, material=\"super iron\", wheels=5)"
   ]
  },
  {
   "cell_type": "markdown",
   "metadata": {},
   "source": [
    "## 12.8 Dataclass"
   ]
  },
  {
   "cell_type": "code",
   "execution_count": 22,
   "metadata": {},
   "outputs": [],
   "source": [
    "class User:\n",
    "    def __init__(self, _id: int, username: str, password: str, name: str, last_name: str):\n",
    "        self.id = _id\n",
    "        self.username = username\n",
    "        self.password = password\n",
    "        self.name = name\n",
    "        self.last_name = last_name"
   ]
  },
  {
   "cell_type": "code",
   "execution_count": 19,
   "metadata": {},
   "outputs": [],
   "source": [
    "from dataclasses import dataclass\n",
    "\n",
    "@dataclass\n",
    "class User:\n",
    "    id: int\n",
    "    username: str\n",
    "    password: str\n",
    "    name: str\n",
    "    last_name: str    \n"
   ]
  },
  {
   "cell_type": "code",
   "execution_count": 21,
   "metadata": {},
   "outputs": [],
   "source": [
    "@dataclass(slots=True)\n",
    "class UserProfile:\n",
    "    id: int\n",
    "    name: str\n",
    "    last: str\n",
    "\n",
    "\n",
    "@dataclass\n",
    "class User:\n",
    "    id: int\n",
    "    username: str\n",
    "    password: str\n",
    "    profile: UserProfile\n",
    "    "
   ]
  },
  {
   "cell_type": "markdown",
   "metadata": {},
   "source": [
    "\n",
    "## 12.9 Основные принципы ООП  <a href='https://ru.wikipedia.org/wiki/Объектно-ориентированное_программирование'> [2]</a>\n",
    "</br>\n",
    "<dl>\n",
    "<dt><a href=\"/wiki/%D0%90%D0%B1%D1%81%D1%82%D1%80%D0%B0%D0%BA%D1%86%D0%B8%D1%8F_%D0%B4%D0%B0%D0%BD%D0%BD%D1%8B%D1%85\" title=\"Абстракция данных\">Абстракция данных</a>&nbsp;</dt>\n",
    "<dd>Абстрагирование означает выделение значимой информации и исключение из рассмотрения незначимой. В ООП рассматривают лишь абстракцию данных (нередко называя её просто «абстракцией»), подразумевая набор значимых характеристик объекта, доступный остальной программе.</dd>\n",
    "<dt><a href=\"/wiki/%D0%98%D0%BD%D0%BA%D0%B0%D0%BF%D1%81%D1%83%D0%BB%D1%8F%D1%86%D0%B8%D1%8F_(%D0%BF%D1%80%D0%BE%D0%B3%D1%80%D0%B0%D0%BC%D0%BC%D0%B8%D1%80%D0%BE%D0%B2%D0%B0%D0%BD%D0%B8%D0%B5)\" title=\"Инкапсуляция (программирование)\">Инкапсуляция</a><sup id=\"cite_ref-Pirs_5-0\" class=\"reference\"><a href=\"#cite_note-Pirs-5\">[5]</a></sup>&nbsp;</dt>\n",
    "<dd>Инкапсуляция&nbsp;— свойство системы, позволяющее объединить данные и методы, работающие с ними, в классе. Обычно инкапсуляцию отождествляют с сокрытием даных.</dd>\n",
    "<dt><a href=\"/wiki/%D0%9D%D0%B0%D1%81%D0%BB%D0%B5%D0%B4%D0%BE%D0%B2%D0%B0%D0%BD%D0%B8%D0%B5_(%D0%BF%D1%80%D0%BE%D0%B3%D1%80%D0%B0%D0%BC%D0%BC%D0%B8%D1%80%D0%BE%D0%B2%D0%B0%D0%BD%D0%B8%D0%B5)\" title=\"Наследование (программирование)\">Наследование</a><sup id=\"cite_ref-Pirs_5-1\" class=\"reference\"><a href=\"#cite_note-Pirs-5\">[5]</a></sup>&nbsp;</dt>\n",
    "<dd>Наследование&nbsp;— свойство системы, позволяющее описать новый класс на основе уже существующего с частично или полностью заимствующейся функциональностью. Класс, от которого производится наследование, называется базовым, родительским или суперклассом. Новый класс&nbsp;— потомком, наследником, дочерним или производным классом.</dd>\n",
    "<dt><a href=\"/wiki/%D0%9F%D0%BE%D0%BB%D0%B8%D0%BC%D0%BE%D1%80%D1%84%D0%B8%D0%B7%D0%BC_%D0%BF%D0%BE%D0%B4%D1%82%D0%B8%D0%BF%D0%BE%D0%B2\" class=\"mw-redirect\" title=\"Полиморфизм подтипов\">Полиморфизм</a><sup id=\"cite_ref-Pirs_5-2\" class=\"reference\"><a href=\"#cite_note-Pirs-5\">[5]</a></sup>&nbsp;</dt>\n",
    "<dd>Полиморфизм&nbsp;— свойство системы, позволяющее использовать объекты с одинаковым интерфейсом без информации о типе и внутренней структуре объекта. Другой вид полиморфизма&nbsp;— <a href=\"/wiki/%D0%9F%D0%B0%D1%80%D0%B0%D0%BC%D0%B5%D1%82%D1%80%D0%B8%D1%87%D0%B5%D1%81%D0%BA%D0%B8%D0%B9_%D0%BF%D0%BE%D0%BB%D0%B8%D0%BC%D0%BE%D1%80%D1%84%D0%B8%D0%B7%D0%BC\" title=\"Параметрический полиморфизм\">параметрический</a>&nbsp;— в ООП называют <a href=\"/wiki/%D0%9E%D0%B1%D0%BE%D0%B1%D1%89%D1%91%D0%BD%D0%BD%D0%BE%D0%B5_%D0%BF%D1%80%D0%BE%D0%B3%D1%80%D0%B0%D0%BC%D0%BC%D0%B8%D1%80%D0%BE%D0%B2%D0%B0%D0%BD%D0%B8%D0%B5\" title=\"Обобщённое программирование\">обобщённым программированием</a>.</dd>\n",
    "<dt><a href=\"/wiki/%D0%9A%D0%BB%D0%B0%D1%81%D1%81_(%D0%BF%D1%80%D0%BE%D0%B3%D1%80%D0%B0%D0%BC%D0%BC%D0%B8%D1%80%D0%BE%D0%B2%D0%B0%D0%BD%D0%B8%D0%B5)\" title=\"Класс (программирование)\">Класс</a>&nbsp;</dt>\n",
    "<dd>Класс&nbsp;— универсальный, комплексный <a href=\"/wiki/%D0%A2%D0%B8%D0%BF_%D0%B4%D0%B0%D0%BD%D0%BD%D1%8B%D1%85\" title=\"Тип данных\">тип данных</a>, состоящий из тематически единого набора «полей» (переменных более элементарных типов) и «методов» (функций для работы с этими полями), то есть он является моделью информационной сущности с внутренним и внешним <a href=\"/wiki/%D0%98%D0%BD%D1%82%D0%B5%D1%80%D1%84%D0%B5%D0%B9%D1%81_(%D0%BE%D0%B1%D1%8A%D0%B5%D0%BA%D1%82%D0%BD%D0%BE-%D0%BE%D1%80%D0%B8%D0%B5%D0%BD%D1%82%D0%B8%D1%80%D0%BE%D0%B2%D0%B0%D0%BD%D0%BD%D0%BE%D0%B5_%D0%BF%D1%80%D0%BE%D0%B3%D1%80%D0%B0%D0%BC%D0%BC%D0%B8%D1%80%D0%BE%D0%B2%D0%B0%D0%BD%D0%B8%D0%B5)\" title=\"Интерфейс (объектно-ориентированное программирование)\">интерфейсами</a> для оперирования своим содержимым (значениями полей). Обычно классы разрабатывают таким образом, чтобы обеспечить отвечающие природе объекта и решаемой задаче целостность данных объекта, а также удобный и простой интерфейс. В свою очередь, целостность предметной области объектов и их интерфейсов, а также удобство их проектирования, обеспечивается наследованием.</dd>\n",
    "<dt><a href=\"/wiki/%D0%9E%D0%B1%D1%8A%D0%B5%D0%BA%D1%82_(%D0%BF%D1%80%D0%BE%D0%B3%D1%80%D0%B0%D0%BC%D0%BC%D0%B8%D1%80%D0%BE%D0%B2%D0%B0%D0%BD%D0%B8%D0%B5)\" title=\"Объект (программирование)\">Объект</a>&nbsp;</dt>\n",
    "<dd>Сущность в <a href=\"/wiki/%D0%90%D0%B4%D1%80%D0%B5%D1%81%D0%B0%D1%86%D0%B8%D1%8F_%D0%BF%D0%B0%D0%BC%D1%8F%D1%82%D0%B8\" title=\"Адресация памяти\">адресном пространстве</a> вычислительной системы, появляющаяся при создании экземпляра класса.</dd>\n",
    "</dl>"
   ]
  },
  {
   "cell_type": "markdown",
   "metadata": {},
   "source": [
    "# Задачи\n",
    "\n",
    "## 1. Друзья.\n",
    " **Дано:** n - целое число.\n",
    " \n",
    " **Задание:** \n",
    " <div class=\"missions-content__description\">\n",
    "            \n",
    "                \n",
    "            \n",
    "          \n",
    "<p>\n",
    "    Создайте класс \"Friends\", который должен содержать данные о людях (их имена) и о связях между ними.\n",
    "    Имена представлены в виде текстовых строк, чувствительных к регистру.\n",
    "    Связи не имеют направлений, то есть, если существует связь \"sofia\" с \"nikola\", это справедливо и\n",
    "    в обратную сторону.\n",
    "\n",
    "</p>\n",
    "\n",
    "<p>\n",
    "    <em>class</em> <strong>Friends</strong><em>(connections)</em>\n",
    "</p>\n",
    "<p class=\"indent\">\n",
    "    Возвращает новый объект, экземпляр класса Friends.\n",
    "    Параметр <em>\"connections\"</em> имеет тип \"итерируемый объект\", содержащий множества (set) с\n",
    "    двумя элементами в каждом.\n",
    "    Каждая связь содержит два имени в виде текстовых строк.\n",
    "    Связи могут повторяться в параметре инициализации, но в объекте хранятся только уникальные пары.\n",
    "    Каждая связь имеет только два состояния - присутствует или не присутствует.\n",
    "</p>\n",
    "\n",
    "<pre class=\"example\">&gt;&gt;&gt; Friends(({\"a\", \"b\"}, {\"b\", \"c\"}, {\"c\", \"a\"}, {\"a\", \"c\"})\n",
    "&gt;&gt;&gt; Friends([{\"1\", \"2\"}, {\"3\", \"1\"}])\n",
    "</pre>\n",
    "<br>\n",
    "\n",
    "<p>\n",
    "    <strong>add</strong>(connection)\n",
    "</p>\n",
    "<p class=\"indent\">\n",
    "    Добавляет связь в объект.\n",
    "    Параметр <em>\"connection\"</em> является множеством (set) из двух имен (строк).\n",
    "    Возвращает True, если заданная связь новая и не присутствует в объекте.\n",
    "    Возвращает False, если заданная связь уже существует в объекте.\n",
    "</p>\n",
    "<pre class=\"example\">&gt;&gt;&gt; f = Friends([{\"1\", \"2\"}, {\"3\", \"1\"}])\n",
    "&gt;&gt;&gt; f.add({\"1\", \"3\"})\n",
    "False\n",
    "&gt;&gt;&gt; f.add({\"4\", \"5\"})\n",
    "True\n",
    "</pre>\n",
    "<br>\n",
    "\n",
    "<p>\n",
    "    <strong>remove</strong>(connection)\n",
    "</p>\n",
    "<p class=\"indent\">\n",
    "    Удаляет связь из объекта.\n",
    "    Параметр <em>\"connection\"</em> является множеством (set) из двух имен (строк).\n",
    "    Возвращает True, если заданная связь существует в объекте.\n",
    "    Возвращает False, если заданная связь не присутствует в объекте.\n",
    "</p>\n",
    "<pre class=\"example\">&gt;&gt;&gt; f = Friends([{\"1\", \"2\"}, {\"3\", \"1\"}])\n",
    "&gt;&gt;&gt; f.remove({\"1\", \"3\"})\n",
    "True\n",
    "&gt;&gt;&gt; f.remove({\"4\", \"5\"})\n",
    "False\n",
    "</pre>\n",
    "<br>\n",
    "<p>\n",
    "    <strong>names</strong>()\n",
    "</p>\n",
    "<p class=\"indent\">\n",
    "    Возвращает множество (set) имён. Множество содержит имена, которые имеют хотя бы одну связь.\n",
    "</p>\n",
    "<pre class=\"example\">&gt;&gt;&gt; f = Friends(({\"a\", \"b\"}, {\"b\", \"c\"}, {\"c\", \"d\"})\n",
    "&gt;&gt;&gt; f.names()\n",
    "{\"a\", \"b\", \"c\", \"d\"}\n",
    "&gt;&gt;&gt; f.remove({\"d\", \"c\"})\n",
    "True\n",
    "&gt;&gt;&gt; f.names()\n",
    "{\"a\", \"b\", \"c\"}\n",
    "</pre>\n",
    "<br>\n",
    "<p>\n",
    "    <strong>connected</strong>(name)\n",
    "</p>\n",
    "<p class=\"indent\">\n",
    "    Возвращает множество (set) имён, которые связаны с именем, заданным параметром <em>\"name\"</em>.\n",
    "    Если \"name\" не присутствует в объекте, возвращается пустое множество (set).\n",
    "</p>\n",
    "<pre class=\"example\">&gt;&gt;&gt; f = Friends(({\"a\", \"b\"}, {\"b\", \"c\"}, {\"c\", \"a\"})\n",
    "&gt;&gt;&gt; f.connected(\"a\")\n",
    "{\"b\", \"c\"}\n",
    "&gt;&gt;&gt; f.connected(\"d\")\n",
    "set()\n",
    "&gt;&gt;&gt; f.remove({\"c\", \"a\"})\n",
    "True\n",
    "&gt;&gt;&gt; f.connected(\"c\")\n",
    "{'b'}\n",
    "</pre>\n",
    "<br>\n",
    "<p>\n",
    "    В этом задании все входные данные корректны, и выполнять их проверку не обязательно.\n",
    "</p>\n",
    "\n"
   ]
  },
  {
   "cell_type": "markdown",
   "metadata": {},
   "source": [
    "## 2. Деканат.\n",
    " **Дано:** n - целое число.\n",
    " \n",
    " **Задание:** спроектируйте следующую предметную область, используя объектно-ориентированный подход.\n",
    " \n",
    " Сотрудники деканата каждый семестр решают проблему формирования отчетных ведомостей студентов, разных групп и курсов. Цель - получить информацию о среднем балле каждого студента, группы, а также предмета(например, средний балл по физкультуре в группе 433 составляет 4.1). Такая информация поможет сформировать список студентов, которых нужно отчислить и стипендиатов, а также наиболее \"проблемные\" предметы."
   ]
  }
 ],
 "metadata": {
  "kernelspec": {
   "display_name": "Python 3 (ipykernel)",
   "language": "python",
   "name": "python3"
  },
  "language_info": {
   "codemirror_mode": {
    "name": "ipython",
    "version": 3
   },
   "file_extension": ".py",
   "mimetype": "text/x-python",
   "name": "python",
   "nbconvert_exporter": "python",
   "pygments_lexer": "ipython3",
   "version": "3.12.1"
  }
 },
 "nbformat": 4,
 "nbformat_minor": 4
}
