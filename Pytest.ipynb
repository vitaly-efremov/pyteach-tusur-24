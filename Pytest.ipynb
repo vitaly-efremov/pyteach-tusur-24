{
 "cells": [
  {
   "cell_type": "markdown",
   "id": "3832c783-85d5-4ca0-bbf3-c2e83074d7ae",
   "metadata": {},
   "source": [
    "# Unit-тестирование в Python\n",
    "\n",
    "Unit-тестирование -- это тестирование маленьких \"кусочков\" (unit-ов) приложения.\n",
    "Unit -- минимальный элемент приложения, который может быть протестирован.\n",
    "\n",
    "<img src=\"img/unit-tests.png\" width=500 height=500 />"
   ]
  },
  {
   "cell_type": "markdown",
   "id": "635b5421-7d62-4ffc-b09c-42ed12e9a2ca",
   "metadata": {},
   "source": [
    "## Почему pytest?\n",
    "https://docs.pytest.org/en/stable/\n",
    "\n",
    " - Тесты -- это простые функции\n",
    " - Множество плагинов\n",
    " - Возможность параллельного запуска тестов\n",
    " - Стандарт тестирования на Python"
   ]
  },
  {
   "cell_type": "markdown",
   "id": "cbe60428-9123-4822-a9f1-0660273ad31c",
   "metadata": {},
   "source": [
    "## Установка\n",
    "`pip install pytest`"
   ]
  },
  {
   "cell_type": "markdown",
   "id": "bfda162b-ef18-4c2d-8d98-1aa6072d6dcf",
   "metadata": {},
   "source": [
    "## Первый тест"
   ]
  },
  {
   "cell_type": "code",
   "execution_count": 5,
   "id": "f8d42192-95ac-4d94-8c10-912dfd115ebf",
   "metadata": {},
   "outputs": [],
   "source": [
    "def inc(x):\n",
    "    return x + 1\n",
    "\n",
    "def test_answer():\n",
    "    assert inc(3) == 5"
   ]
  },
  {
   "cell_type": "markdown",
   "id": "ac0794bd-5e28-4d5b-83cf-cc5331067811",
   "metadata": {},
   "source": [
    "$ pytest\n",
    "=========================== test session starts ============================\n",
    "platform linux -- Python 3.x.y, pytest-8.x.y, pluggy-1.x.y\n",
    "rootdir: /home/sweet/project\n",
    "collected 1 item\n",
    "\n",
    "test_sample.py F                                                     [100%]\n",
    "\n",
    "================================= FAILURES =================================\n",
    "_______________________________ test_answer ________________________________\n",
    "\n",
    "    def test_answer():\n",
    ">       assert inc(3) == 5\n",
    "E       assert 4 == 5\n",
    "E        +  where 4 = inc(3)\n",
    "\n",
    "test_sample.py:6: AssertionError\n",
    "========================= short test summary info ==========================\n",
    "FAILED test_sample.py::test_answer - assert 4 == 5\n",
    "============================ 1 failed in 0.12s ============================="
   ]
  },
  {
   "cell_type": "markdown",
   "id": "83bbefb8-1451-4537-93c0-5c57939b8b7c",
   "metadata": {
    "jp-MarkdownHeadingCollapsed": true
   },
   "source": [
    "## Модель Arrange-Act-Assert\n",
    "<img src=\"img/arrange-act-assert.png\" width=400 height=400 />"
   ]
  },
  {
   "cell_type": "code",
   "execution_count": 15,
   "id": "b282a05b-8a21-44d0-a330-b74d370aeec4",
   "metadata": {},
   "outputs": [],
   "source": [
    "import ipytest\n",
    "ipytest.autoconfig()"
   ]
  },
  {
   "cell_type": "code",
   "execution_count": 16,
   "id": "7e8e4e28-ff62-41ee-a473-dbbe40932b72",
   "metadata": {},
   "outputs": [
    {
     "name": "stdout",
     "output_type": "stream",
     "text": [
      "\u001b[31mF\u001b[0m\u001b[31m                                                                                            [100%]\u001b[0m\n",
      "============================================= FAILURES =============================================\n",
      "\u001b[31m\u001b[1m___________________________________________ test_answer ____________________________________________\u001b[0m\n",
      "\n",
      "    \u001b[0m\u001b[94mdef\u001b[39;49;00m \u001b[92mtest_answer\u001b[39;49;00m():\u001b[90m\u001b[39;49;00m\n",
      "        \u001b[90m# Arrange\u001b[39;49;00m\u001b[90m\u001b[39;49;00m\n",
      "        x = \u001b[94m3\u001b[39;49;00m\u001b[90m\u001b[39;49;00m\n",
      "    \u001b[90m\u001b[39;49;00m\n",
      "        \u001b[90m# Act\u001b[39;49;00m\u001b[90m\u001b[39;49;00m\n",
      "        increment_result = inc(x)\u001b[90m\u001b[39;49;00m\n",
      "    \u001b[90m\u001b[39;49;00m\n",
      "        \u001b[90m# Assert\u001b[39;49;00m\u001b[90m\u001b[39;49;00m\n",
      ">       \u001b[94massert\u001b[39;49;00m increment_result == \u001b[94m5\u001b[39;49;00m\u001b[90m\u001b[39;49;00m\n",
      "\u001b[1m\u001b[31mE       assert 4 == 5\u001b[0m\n",
      "\n",
      "\u001b[1m\u001b[31m/var/folders/7x/q0wlsmmd1nzdw2w3832w1m380000gp/T/ipykernel_72058/1359938721.py\u001b[0m:9: AssertionError\n",
      "\u001b[36m\u001b[1m===================================== short test summary info ======================================\u001b[0m\n",
      "\u001b[31mFAILED\u001b[0m t_95f35af0277f4e8db29603caf3c8a33c.py::\u001b[1mtest_answer\u001b[0m - assert 4 == 5\n"
     ]
    }
   ],
   "source": [
    "%%ipytest -qq\n",
    "\n",
    "def test_answer():\n",
    "    # Arrange\n",
    "    x = 3\n",
    "    \n",
    "    # Act \n",
    "    increment_result = inc(x)\n",
    "\n",
    "    # Assert\n",
    "    assert increment_result == 5"
   ]
  },
  {
   "cell_type": "markdown",
   "id": "fc481b58-728c-47ef-9586-d23b52128c34",
   "metadata": {},
   "source": [
    "## Покрытие кода - легко!\n",
    "https://pytest-cov.readthedocs.io/en/latest/\n",
    "\n",
    "`pip install pytest-cov`\n",
    "\n",
    "`pytest --cov=myproj tests/`"
   ]
  },
  {
   "cell_type": "raw",
   "id": "5b03402b-d15a-4ee2-b672-c057533f5d0f",
   "metadata": {},
   "source": [
    "-------------------- coverage: ... ---------------------\n",
    "Name                 Stmts   Miss  Cover\n",
    "----------------------------------------\n",
    "myproj/__init__          2      0   100%\n",
    "myproj/myproj          257     13    94%\n",
    "myproj/feature4286      94      7    92%\n",
    "----------------------------------------\n",
    "TOTAL                  353     20    94%"
   ]
  },
  {
   "cell_type": "markdown",
   "id": "0adb7795-725e-4e9c-bbdc-f93f57644487",
   "metadata": {},
   "source": [
    "#### Если тесты повторяются, то есть параметризованные тесты"
   ]
  },
  {
   "cell_type": "code",
   "execution_count": 3,
   "id": "9073fd53-2527-4174-8b82-390dbeb458da",
   "metadata": {},
   "outputs": [],
   "source": [
    "import ipytest\n",
    "ipytest.autoconfig()"
   ]
  },
  {
   "cell_type": "code",
   "execution_count": 6,
   "id": "93a74701-1b33-4380-9f3e-53be68a4be1c",
   "metadata": {},
   "outputs": [
    {
     "name": "stdout",
     "output_type": "stream",
     "text": [
      "\u001b[32m.\u001b[0m\u001b[32m.\u001b[0m\u001b[32m.\u001b[0m\u001b[32m.\u001b[0m\u001b[32m                                                                                         [100%]\u001b[0m\n"
     ]
    }
   ],
   "source": [
    "%%ipytest -qq\n",
    "\n",
    "def test_answer_1():\n",
    "    # Act\n",
    "    increment_result = inc(1)\n",
    "\n",
    "    # Assert\n",
    "    assert increment_result == 2\n",
    "\n",
    "\n",
    "def test_answer_2():\n",
    "    # Act\n",
    "    increment_result = inc(2)\n",
    "\n",
    "    # Assert\n",
    "    assert increment_result == 3\n",
    "\n",
    "\n",
    "def test_answer_0():\n",
    "    # Act\n",
    "    increment_result = inc(0)\n",
    "\n",
    "    # Assert\n",
    "    assert increment_result == 1\n",
    "\n",
    "\n",
    "\n",
    "def test_answer_negative():\n",
    "    # Act\n",
    "    increment_result = inc(-1)\n",
    "\n",
    "    # Assert\n",
    "    assert increment_result == 0"
   ]
  },
  {
   "cell_type": "code",
   "execution_count": 28,
   "id": "3138b016-402c-4502-9252-2cd00b22c801",
   "metadata": {},
   "outputs": [
    {
     "name": "stdout",
     "output_type": "stream",
     "text": [
      "\u001b[32m.\u001b[0m\u001b[32m.\u001b[0m\u001b[32m.\u001b[0m\u001b[32m.\u001b[0m\u001b[32m                                                                                         [100%]\u001b[0m\n"
     ]
    }
   ],
   "source": [
    "%%ipytest -qq\n",
    "\n",
    "import pytest\n",
    "@pytest.mark.parametrize('x, expectation', [\n",
    "    (1, 2),\n",
    "    (2, 3),\n",
    "    (0, 1),\n",
    "    (-1, 0),\n",
    "])\n",
    "def test_answer(x, expectation):\n",
    "    # Act\n",
    "    increment_result = inc(x)\n",
    "\n",
    "    # Assert\n",
    "    assert increment_result == expectation"
   ]
  },
  {
   "cell_type": "markdown",
   "id": "f1fb5140-0e5c-4522-80c5-388a7ec86564",
   "metadata": {},
   "source": [
    "## Задачи\n",
    " ### 1. Форматирование цены\n",
    "\n",
    " **Дано:** Диапазон цены от (int | None) и до (int | None). \n",
    " \n",
    " **Задание:** \n",
    "\n",
    "Отформатировать диапазон цены. Правила:\n",
    "1. Если ввели только значение ОТ `от 100 тыс`\n",
    "2. Если ввели только значение ДО `до 100 тыс`\n",
    "3. Если ввели оба значения `50–80 тыс`\n",
    "4. Если числовая часть цены больше 3х знаков, то выбираем сл. единицу измерения: `₽ -> тыс. -> млн. -> млрд.`\n",
    " \n",
    " **Примеры:** \n",
    " - от 20 до 30 -> `20 - 30 ₽`\n",
    " - от 20 до 300000 -> `20 - 300 тыс ₽`\n",
    " - от 2001 до 300000 -> `2 - 300 тыс ₽`\n",
    " - от 2001 -> `от 2 тыс ₽`\n",
    " - до 100500 -> `до 100,5 тыс ₽`\n",
    " - до 10 050 000 -> `до 10,1 млн ₽`\n",
    "\n",
    "Больше примеров можно посмотреть тут (фильтр цена): https://www.cian.ru/kupit-kvartiru/"
   ]
  }
 ],
 "metadata": {
  "kernelspec": {
   "display_name": "Python 3 (ipykernel)",
   "language": "python",
   "name": "python3"
  },
  "language_info": {
   "codemirror_mode": {
    "name": "ipython",
    "version": 3
   },
   "file_extension": ".py",
   "mimetype": "text/x-python",
   "name": "python",
   "nbconvert_exporter": "python",
   "pygments_lexer": "ipython3",
   "version": "3.12.1"
  }
 },
 "nbformat": 4,
 "nbformat_minor": 5
}
