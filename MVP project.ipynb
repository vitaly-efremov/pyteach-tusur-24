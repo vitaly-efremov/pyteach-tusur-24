{
 "cells": [
  {
   "cell_type": "markdown",
   "id": "8756d9c2-1a31-428d-a7f5-5d57dd0dbc8e",
   "metadata": {},
   "source": [
    "## Совместный проект. MVP"
   ]
  },
  {
   "cell_type": "markdown",
   "id": "2e6f1e15-5b64-43e9-b706-71c628e78252",
   "metadata": {},
   "source": [
    "**Заказчик (владелец продукта, product owner, PO)**: Нам нужно реализовать сервис продажи недвижимости (свой ЦИАН) до четверга, успеем?\n",
    "\n",
    "**Junior-разработчик Иван**: Конечно!"
   ]
  },
  {
   "cell_type": "markdown",
   "id": "1166352a-767e-48d4-9386-f0414fc92ad2",
   "metadata": {},
   "source": [
    "**Среда**\n",
    "\n",
    "**PO**: Привет! Завтра демо для клиента. У нас все готово?\n",
    "\n",
    "**Иван**: ээм, почти..\n",
    "\n",
    "**PO**: А что есть?\n",
    "\n",
    "**Иван**: много заготовок, исследований, архитектура\n",
    "\n",
    "**PO**: А что можем показать клиенту?\n",
    "\n",
    "**Иван**: сейчас ничего\n",
    "\n",
    "**PO**: (долгое молчание) и что будем делать?"
   ]
  },
  {
   "cell_type": "markdown",
   "id": "6fed85c1-eba8-4998-896d-6cd4bd689ec9",
   "metadata": {},
   "source": [
    "#### Решение -- MVP (минимальный рабочий продукт)"
   ]
  },
  {
   "cell_type": "markdown",
   "id": "e3e37224-d3d7-4e97-a60a-e1aff7cc8ede",
   "metadata": {},
   "source": [
    "**Иван**: а что должен минимально делать продукт?\n",
    "\n",
    "**PO**: показывать список объявлений с ценой, расположением, картинками  и основными характеристиками. Вообще сейчас достаточно будет объявлений о продаже квартир в Томске.\n"
   ]
  },
  {
   "cell_type": "markdown",
   "id": "3379effc-4729-4490-9c07-199784dc2308",
   "metadata": {},
   "source": [
    "#### MVP\n",
    "**Frontend** -- одна страница со списком объявлений\n",
    "\n",
    "**Backend** -- сервер с endpoint-ами: `/offers/` и `/offer/ID/`\n",
    "\n",
    "**Контракт endpoint-ов**\n",
    "1. `GET /offers/`\n",
    "   ```\n",
    "   [\n",
    "       {\n",
    "          \"id\": 1,\n",
    "          \"price\": 100,\n",
    "          \"location\": \"Томск, пер. Лесной 10\",\n",
    "          \"photos\": [\n",
    "               \"url1\",\n",
    "               \"url2\"\n",
    "           ],\n",
    "          \"rooms\": 3\n",
    "       }\n",
    "   ]\n",
    "   ```  \n",
    "2. `GET /offers/1/`\n",
    "   ```\n",
    "     {\n",
    "      \"id\": 1,\n",
    "      \"price\": 100,\n",
    "      \"location\": \"Томск, пер. Лесной 10\",\n",
    "      \"photos\": [\n",
    "           \"url1\",\n",
    "           \"url2\"\n",
    "       ],\n",
    "      \"phone\": \"+7777777777\",\n",
    "      \"total_area\": 100,\n",
    "      \"rooms\": 3\n",
    "   }\n",
    "   ``` "
   ]
  },
  {
   "cell_type": "markdown",
   "id": "3ca15fd4-9f02-44c3-9d94-d0ff172bedde",
   "metadata": {},
   "source": [
    "### Фреймворк FastAPI"
   ]
  },
  {
   "cell_type": "markdown",
   "id": "e766603b-9927-478a-877f-813881456274",
   "metadata": {},
   "source": [
    "https://fastapi.tiangolo.com/\n",
    "\n",
    "Установка:\n",
    "```\n",
    "pip install \"fastapi[standard]\"\n",
    "```\n",
    "\n",
    "Запуск сервера для разработки:\n",
    "```\n",
    "fastapi dev main.py\n",
    "```"
   ]
  }
 ],
 "metadata": {
  "kernelspec": {
   "display_name": "Python 3 (ipykernel)",
   "language": "python",
   "name": "python3"
  },
  "language_info": {
   "codemirror_mode": {
    "name": "ipython",
    "version": 3
   },
   "file_extension": ".py",
   "mimetype": "text/x-python",
   "name": "python",
   "nbconvert_exporter": "python",
   "pygments_lexer": "ipython3",
   "version": "3.12.1"
  }
 },
 "nbformat": 4,
 "nbformat_minor": 5
}
