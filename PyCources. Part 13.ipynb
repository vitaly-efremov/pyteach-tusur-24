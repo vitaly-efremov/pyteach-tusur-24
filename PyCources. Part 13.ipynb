{
 "cells": [
  {
   "cell_type": "markdown",
   "metadata": {},
   "source": [
    "## 13 Основные принципы ООП  "
   ]
  },
  {
   "cell_type": "markdown",
   "metadata": {},
   "source": [
    "## 13.1 Инкапсуляция\n",
    "\n",
    "<dt><a href=\"https://ru.wikipedia.org/wiki/%D0%98%D0%BD%D0%BA%D0%B0%D0%BF%D1%81%D1%83%D0%BB%D1%8F%D1%86%D0%B8%D1%8F_%28%D0%BF%D1%80%D0%BE%D0%B3%D1%80%D0%B0%D0%BC%D0%BC%D0%B8%D1%80%D0%BE%D0%B2%D0%B0%D0%BD%D0%B8%D0%B5%29\" title=\"Инкапсуляция (программирование)\">Инкапсуляция</a><sup id=\"cite_ref-Pirs_5-0\" class=\"reference\"><a href=\"#cite_note-Pirs-5\">[5]</a></sup>&nbsp;</dt>\n",
    "<dd>Инкапсуляция&nbsp;— свойство системы, позволяющее объединить данные и методы, работающие с ними, в классе. Обычно инкапсуляцию отождествляют с сокрытием даных.</dd>\n",
    "<dt>\n",
    "\n",
    "<img src=\"https://upload.wikimedia.org/wikipedia/commons/thumb/8/82/CPT-OOP-interfaces.svg/1200px-CPT-OOP-interfaces.svg.png\">"
   ]
  },
  {
   "cell_type": "code",
   "execution_count": 16,
   "metadata": {},
   "outputs": [
    {
     "name": "stdout",
     "output_type": "stream",
     "text": [
      "salary: 0\n"
     ]
    }
   ],
   "source": [
    "class EmployeeTracker:\n",
    "    def __init__(self, name: str, surname: str):\n",
    "        self.name = name\n",
    "        self.surname = surname\n",
    "        self.__working_hours = 0\n",
    "        \n",
    "    def work(self, hours: int):\n",
    "        if hours < 0:\n",
    "            return\n",
    "        self.__working_hours += hours\n",
    "    \n",
    "    def count_dayoff(self, hours: int):\n",
    "        if hours < 0:\n",
    "            return\n",
    "\n",
    "        self.__working_hours = max(self.__working_hours - hours, 0)\n",
    "    \n",
    "    def reset(self):\n",
    "        self.__working_hours = 0\n",
    "    \n",
    "    def get_total_working_hours(self):\n",
    "        return self.__working_hours\n",
    "\n",
    "petr_tracker = EmployeeTracker(name='Petr', surname='Petrov')\n",
    "petr_tracker.work(hours=8)\n",
    "petr_tracker.work(hours=4)\n",
    "petr_tracker.count_dayoff(hours=20)\n",
    "print(f'salary:', petr_tracker.get_total_working_hours() * 5000)"
   ]
  },
  {
   "cell_type": "code",
   "execution_count": 15,
   "metadata": {},
   "outputs": [
    {
     "name": "stdout",
     "output_type": "stream",
     "text": [
      "Salary for Petr Petrov = 50000\n"
     ]
    }
   ],
   "source": [
    "# Немного улучшим\n",
    "from dataclasses import dataclass\n",
    "\n",
    "@dataclass\n",
    "class Employee:\n",
    "    name: str\n",
    "    surname: str\n",
    "\n",
    "\n",
    "class EmployeeTracker:\n",
    "    def __init__(self, employee: Employee):\n",
    "        self.__employee = employee\n",
    "        self.__working_hours = 0\n",
    "        \n",
    "    def work(self, hours: int):\n",
    "        if hours < 0:\n",
    "            return\n",
    "        self.__working_hours += hours\n",
    "    \n",
    "    def count_dayoff(self, hours: int):\n",
    "        if hours < 0:\n",
    "            return\n",
    "        self.__working_hours -= hours\n",
    "    \n",
    "    def reset(self):\n",
    "        self.__working_hours = 0\n",
    "    \n",
    "    @property\n",
    "    def working_hours(self) -> int:\n",
    "        # light-weight method\n",
    "        return self.__working_hours\n",
    "\n",
    "    @property\n",
    "    def employee_name(self) -> str:\n",
    "        # light-weight method\n",
    "        return f'{self.__employee.name} {self.__employee.surname}'\n",
    "\n",
    "petr = Employee(name='Petr', surname='Petrov')\n",
    "masha = Employee(name='Masha', surname='Petrova')\n",
    "\n",
    "petr_tracker = EmployeeTracker(employee=petr)\n",
    "\n",
    "petr_tracker.work(hours=8)\n",
    "petr_tracker.work(hours=4)\n",
    "petr_tracker.count_dayoff(hours=2)\n",
    "print(f'Salary for {petr_tracker.employee_name} =', petr_tracker.working_hours * 5000)\n"
   ]
  },
  {
   "cell_type": "markdown",
   "metadata": {},
   "source": [
    "## 13.2 Наследование\n",
    "\n",
    "<dt><a href=\"https://ru.wikipedia.org/wiki/%D0%9D%D0%B0%D1%81%D0%BB%D0%B5%D0%B4%D0%BE%D0%B2%D0%B0%D0%BD%D0%B8%D0%B5_(%D0%BF%D1%80%D0%BE%D0%B3%D1%80%D0%B0%D0%BC%D0%BC%D0%B8%D1%80%D0%BE%D0%B2%D0%B0%D0%BD%D0%B8%D0%B5)\" title=\"Наследование (программирование)\">Наследование</a><sup id=\"cite_ref-Pirs_5-1\" class=\"reference\"><a href=\"#cite_note-Pirs-5\">[5]</a></sup>&nbsp;</dt>\n",
    "<dd>Наследование&nbsp;— свойство системы, позволяющее описать новый класс на основе уже существующего с частично или полностью заимствующейся функциональностью. Класс, от которого производится наследование, называется базовым, родительским или суперклассом. Новый класс&nbsp;— потомком, наследником, дочерним или производным классом.</dd>\n",
    "<dt>\n",
    "\n",
    "<img src=\"https://files.realpython.com/media/ic-basic-inheritance.f8dc9ffee4d7.jpg\">"
   ]
  },
  {
   "cell_type": "code",
   "execution_count": 17,
   "metadata": {},
   "outputs": [
    {
     "name": "stdout",
     "output_type": "stream",
     "text": [
      "I can eat\n",
      "My name is Kishmish\n"
     ]
    }
   ],
   "source": [
    "class Animal:\n",
    "    def __init__(self, name: str = 'Sharik'):\n",
    "        self.name = name\n",
    "    \n",
    "    def eat(self):\n",
    "        print(\"I can eat\")\n",
    "\n",
    "\n",
    "class Dog(Animal):\n",
    "    def display(self):\n",
    "        print(f\"My name is {self.name}\")\n",
    "\n",
    "labrador = Dog()\n",
    "\n",
    "labrador.name = \"Kishmish\"\n",
    "labrador.eat()\n",
    "\n",
    "labrador.display()"
   ]
  },
  {
   "cell_type": "markdown",
   "metadata": {},
   "source": [
    "## Немного примеров\n",
    "\n",
    "<img src=\"https://files.realpython.com/media/ic-initial-employee-inheritance.b5f1e65cb8d1.jpg\">"
   ]
  },
  {
   "cell_type": "code",
   "execution_count": 15,
   "metadata": {},
   "outputs": [
    {
     "name": "stdout",
     "output_type": "stream",
     "text": [
      "Calculating Payroll\n",
      "===================\n",
      "Payroll for: 1 - John Smith\n",
      "- Check amount: 6000\n",
      "\n",
      "Payroll for: 2 - Jane Doe\n",
      "- Check amount: 1200\n",
      "\n",
      "Payroll for: 3 - Kevin Bacon\n",
      "- Check amount: 4250\n",
      "\n"
     ]
    }
   ],
   "source": [
    "class PayrollSystem:\n",
    "    def calculate_payroll(self, employees):\n",
    "        print(\"Calculating Payroll\")\n",
    "        print(\"===================\")\n",
    "        for employee in employees:\n",
    "            print(f\"Payroll for: {employee.id} - {employee.name}\")\n",
    "            print(f\"- Check amount: {employee.calculate_payroll()}\")\n",
    "            print(\"\")\n",
    "\n",
    "\n",
    "class Employee:\n",
    "    def __init__(self, _id, name):\n",
    "        self.id = _id\n",
    "        self.name = name\n",
    "\n",
    "class SalaryEmployee(Employee):\n",
    "    def __init__(self, _id, name, weekly_salary):\n",
    "        super().__init__(_id, name)\n",
    "        self.weekly_salary = weekly_salary\n",
    "\n",
    "    def calculate_payroll(self):\n",
    "        return self.weekly_salary * 4\n",
    "\n",
    "class HourlyEmployee(Employee):\n",
    "    def __init__(self, _id, name, hours_worked, hourly_rate):\n",
    "        super().__init__(_id, name)\n",
    "        self.hours_worked = hours_worked\n",
    "        self.hourly_rate = hourly_rate\n",
    "\n",
    "    def calculate_payroll(self):\n",
    "        return self.hours_worked * self.hourly_rate\n",
    "\n",
    "class CommissionEmployee(SalaryEmployee):\n",
    "    def __init__(self, _id, name, weekly_salary, commission):\n",
    "        super().__init__(_id, name, weekly_salary)\n",
    "        self.commission = commission\n",
    "\n",
    "    def calculate_payroll(self):\n",
    "        fixed = super().calculate_payroll()\n",
    "        return fixed + self.commission\n",
    "\n",
    "    \n",
    "salary_employee = SalaryEmployee(1, \"John Smith\", 1500)\n",
    "hourly_employee = HourlyEmployee(2, \"Jane Doe\", 80, 15)\n",
    "commission_employee = CommissionEmployee(3, \"Kevin Bacon\", 1000, 250)\n",
    "\n",
    "\n",
    "# v1\n",
    "payroll_system = PayrollSystem()\n",
    "payroll_system.calculate_payroll(\n",
    "    [salary_employee, hourly_employee, commission_employee]\n",
    ")\n"
   ]
  },
  {
   "cell_type": "markdown",
   "metadata": {},
   "source": [
    "## 13.3 Полиморфизм\n",
    "\n",
    "<dt><a href=\"https://ru.wikipedia.org/wiki/%D0%9F%D0%BE%D0%BB%D0%B8%D0%BC%D0%BE%D1%80%D1%84%D0%B8%D0%B7%D0%BC_(%D0%B8%D0%BD%D1%84%D0%BE%D1%80%D0%BC%D0%B0%D1%82%D0%B8%D0%BA%D0%B0)\">Полиморфизм</a><sup id=\"cite_ref-Pirs_5-2\" class=\"reference\"><a href=\"#cite_note-Pirs-5\">[5]</a></sup>&nbsp;</dt>\n",
    "<dd>Полиморфизм&nbsp;— свойство системы, позволяющее использовать объекты с одинаковым интерфейсом без информации о типе и внутренней структуре объекта. Другой вид полиморфизма&nbsp;— <a href=\"https://ru.wikipedia.org/wiki/%D0%9F%D0%B0%D1%80%D0%B0%D0%BC%D0%B5%D1%82%D1%80%D0%B8%D1%87%D0%B5%D1%81%D0%BA%D0%B8%D0%B9_%D0%BF%D0%BE%D0%BB%D0%B8%D0%BC%D0%BE%D1%80%D1%84%D0%B8%D0%B7%D0%BC\" title=\"Параметрический полиморфизм\">параметрический</a>&nbsp;— в ООП называют <a href=\"https://ru.wikipedia.org/wiki/%D0%9E%D0%B1%D0%BE%D0%B1%D1%89%D1%91%D0%BD%D0%BD%D0%BE%D0%B5_%D0%BF%D1%80%D0%BE%D0%B3%D1%80%D0%B0%D0%BC%D0%BC%D0%B8%D1%80%D0%BE%D0%B2%D0%B0%D0%BD%D0%B8%D0%B5\" title=\"Обобщённое программирование\">обобщённым программированием</a>.</dd>\n",
    "\n",
    "<img src=\"https://javarush.com/images/article/1c3dd28a-1263-4db5-b8b3-06d172e3204c/original.png\">"
   ]
  },
  {
   "cell_type": "code",
   "execution_count": 16,
   "metadata": {},
   "outputs": [
    {
     "name": "stdout",
     "output_type": "stream",
     "text": [
      "Meow\n",
      "I am a cat. My name is Marusya. I am 2.5 years old.\n",
      "Woof\n",
      "I am a dog. My name is Gudron. I am 4 years old.\n",
      "Moo\n",
      "I am a cow. My name is Dusia. I am 2 years old.\n",
      "Alloo\n",
      "I am phone - I'm animal\n"
     ]
    }
   ],
   "source": [
    "# Duck-typing\n",
    "\n",
    "class Cat:\n",
    "    def __init__(self, name, age):\n",
    "        self.name = name\n",
    "        self.age = age\n",
    "\n",
    "    def info(self):\n",
    "        print(f\"I am a cat. My name is {self.name}. I am {self.age} years old.\")\n",
    "\n",
    "    def speak(self):\n",
    "        print(\"Meow\")\n",
    "\n",
    "class Cow:\n",
    "    def __init__(self, name, age):\n",
    "        self.name = name\n",
    "        self.age = age\n",
    "\n",
    "    def info(self):\n",
    "        print(f\"I am a cow. My name is {self.name}. I am {self.age} years old.\")\n",
    "\n",
    "    def speak(self):\n",
    "        print(\"Moo\")\n",
    "\n",
    "\n",
    "class Dog:\n",
    "    def __init__(self, name, age):\n",
    "        self.name = name\n",
    "        self.age = age\n",
    "\n",
    "    def info(self):\n",
    "        print(f\"I am a dog. My name is {self.name}. I am {self.age} years old.\")\n",
    "\n",
    "    def speak(self):\n",
    "        print(\"Woof\")\n",
    "\n",
    "\n",
    "class Phone:\n",
    "    def speak(self):\n",
    "        print(\"Alloo\")\n",
    "\n",
    "    def info(self):\n",
    "        print(\"I am phone - I'm animal\")\n",
    "\n",
    "\n",
    "cat1 = Cat(\"Marusya\", 2.5)\n",
    "dog1 = Dog(\"Gudron\", 4)\n",
    "cow1 = Cow(\"Dusia\", 2)\n",
    "phone = Phone()\n",
    "\n",
    "for animal in (cat1, dog1, cow1, phone):\n",
    "    animal.speak()\n",
    "    animal.info()\n"
   ]
  },
  {
   "cell_type": "code",
   "execution_count": 29,
   "metadata": {},
   "outputs": [
    {
     "name": "stdout",
     "output_type": "stream",
     "text": [
      "Meow\n",
      "I am a cat. My name is Marusya. I am 2.5 years old.\n",
      "Woof\n",
      "I am a dog. My name is Gudron. I am 4 years old.\n",
      "Moo\n",
      "I am a cow. My name is Dusia. I am 2 years old.\n",
      "UUuuuh\n",
      "I am a elephant. My name is Big boss. I am 10 years old.\n"
     ]
    }
   ],
   "source": [
    "# Inheritance\n",
    "import abc\n",
    "\n",
    "class Animal(abc.ABC):\n",
    "# class Animal(metaclass=abc.ABCMeta):\n",
    "    def __init__(self, name, age):\n",
    "        self.name = name\n",
    "        self.age = age\n",
    "\n",
    "    def info(self):\n",
    "        print(f\"I am a {self.__class__.__name__.lower()}. My name is {self.name}. I am {self.age} years old.\")\n",
    "    \n",
    "    @abc.abstractmethod\n",
    "    def speak(self):\n",
    "        pass\n",
    "\n",
    "\n",
    "class Cat(Animal):\n",
    "    def speak(self):\n",
    "        print(\"Meow\")\n",
    "\n",
    "        \n",
    "class Cow(Animal):\n",
    "    def speak(self):\n",
    "        print(\"Moo\")\n",
    "    \n",
    "    def eat(self):\n",
    "        print('Eating')\n",
    "\n",
    "\n",
    "class Dog(Animal):\n",
    "    def speak(self):\n",
    "        print(\"Woof\")\n",
    "        \n",
    "\n",
    "class Elephant(Animal):\n",
    "    def speak(self):\n",
    "        print(\"UUuuuh\")\n",
    "\n",
    "        \n",
    "cat1 = Cat(\"Marusya\", 2.5)\n",
    "dog1 = Dog(\"Gudron\", 4)\n",
    "cow1 = Cow(\"Dusia\", 2)\n",
    "elephant = Elephant('Big boss', 10)\n",
    "\n",
    "animals: list[Animal] = [cat1, dog1, cow1, elephant]\n",
    "\n",
    "for animal in animals:\n",
    "    animal.speak()\n",
    "    animal.info()\n"
   ]
  },
  {
   "cell_type": "markdown",
   "metadata": {},
   "source": [
    "### Еще примеры"
   ]
  },
  {
   "cell_type": "code",
   "execution_count": 46,
   "metadata": {},
   "outputs": [],
   "source": [
    "# Делаем вместе\n",
    "# В рамках импортозамещения наш университет решил создать новый автомобиль \"Маруся\".\n",
    "# Нужно создать информационную модель."
   ]
  },
  {
   "cell_type": "code",
   "execution_count": 32,
   "metadata": {},
   "outputs": [
    {
     "name": "stdout",
     "output_type": "stream",
     "text": [
      "toyota_engine 1800.0 3\n",
      "bmw_engine 2160.0 5\n"
     ]
    }
   ],
   "source": [
    "from dataclasses import dataclass\n",
    "import abc\n",
    "\n",
    "\n",
    "@dataclass\n",
    "class Engine:\n",
    "    power: int\n",
    "    mark: str\n",
    "    rotation: int\n",
    "\n",
    "\n",
    "@dataclass\n",
    "class Transmission:\n",
    "    gears_count: int\n",
    "    current_gear: int = 0\n",
    "\n",
    "    \n",
    "class MarusyaCar:\n",
    "    def __init__(self, engine: Engine, transmission: Transmission, color: str = 'black', wheels_count: int = 4):\n",
    "        self._color = color\n",
    "        self.engine = engine\n",
    "        self.wheels_count = wheels_count\n",
    "        self.transmission = transmission\n",
    "        self.__speed = 0\n",
    "    \n",
    "    def go(self, gear_increment: int = 1):\n",
    "        if gear_increment < 0:\n",
    "            return\n",
    "    \n",
    "        self.transmission.current_gear += gear_increment\n",
    "        self.__speed += self.engine.power * 0.2 * self.transmission.current_gear\n",
    "    \n",
    "    @property\n",
    "    def speed(self):\n",
    "        return self.__speed\n",
    "    \n",
    "    @property\n",
    "    def current_transmission_gear(self):\n",
    "        return self.transmission.current_gear\n",
    "\n",
    "    def replace_engine(self, engine: Engine):\n",
    "        self.engine = engine\n",
    "    \n",
    "bmw_engine = Engine(power=200, mark='bmw', rotation=0)\n",
    "toyota_engine = Engine(power=150, mark='toyota', rotation=0)\n",
    "uaz_engine = Engine(power=1500, mark='uaz', rotation=0)\n",
    "\n",
    "uaz_transmission = Transmission(gears_count=5)\n",
    "\n",
    "marusya = MarusyaCar(engine=uaz_engine, transmission=uaz_transmission)\n",
    "marusya.go()\n",
    "marusya.go()\n",
    "marusya.go()\n",
    "print('toyota_engine', marusya.speed, marusya.current_transmission_gear)\n",
    "marusya.replace_engine(bmw_engine)\n",
    "marusya.go()\n",
    "marusya.go()\n",
    "print('bmw_engine', marusya.speed, marusya.current_transmission_gear)"
   ]
  }
 ],
 "metadata": {
  "kernelspec": {
   "display_name": "Python 3 (ipykernel)",
   "language": "python",
   "name": "python3"
  },
  "language_info": {
   "codemirror_mode": {
    "name": "ipython",
    "version": 3
   },
   "file_extension": ".py",
   "mimetype": "text/x-python",
   "name": "python",
   "nbconvert_exporter": "python",
   "pygments_lexer": "ipython3",
   "version": "3.12.1"
  }
 },
 "nbformat": 4,
 "nbformat_minor": 4
}
