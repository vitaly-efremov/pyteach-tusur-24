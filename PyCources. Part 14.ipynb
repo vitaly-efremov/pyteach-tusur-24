{
 "cells": [
  {
   "cell_type": "markdown",
   "metadata": {},
   "source": [
    "# 13. Исключения\n",
    "\n",
    "Исключения возникают тогда, когда в программе возникает некоторая **исключительная ситуация**. Например, попытка чтения несуществующего файла.\n"
   ]
  },
  {
   "cell_type": "markdown",
   "metadata": {},
   "source": [
    "## 13.1 Примеры"
   ]
  },
  {
   "cell_type": "code",
   "execution_count": 90,
   "metadata": {},
   "outputs": [
    {
     "name": "stdout",
     "output_type": "stream",
     "text": [
      "1\n",
      "1\n",
      "1\n",
      "1\n",
      "string\n"
     ]
    },
    {
     "ename": "ValueError",
     "evalue": "invalid literal for int() with base 10: 'string'",
     "output_type": "error",
     "traceback": [
      "\u001b[0;31m---------------------------------------------------------------------------\u001b[0m",
      "\u001b[0;31mValueError\u001b[0m                                Traceback (most recent call last)",
      "Cell \u001b[0;32mIn[90], line 8\u001b[0m\n\u001b[1;32m      6\u001b[0m exception_example(\u001b[38;5;241m1\u001b[39m)\n\u001b[1;32m      7\u001b[0m exception_example(\u001b[38;5;124m'\u001b[39m\u001b[38;5;124m1\u001b[39m\u001b[38;5;124m'\u001b[39m)\n\u001b[0;32m----> 8\u001b[0m \u001b[43mexception_example\u001b[49m\u001b[43m(\u001b[49m\u001b[38;5;124;43m'\u001b[39;49m\u001b[38;5;124;43mstring\u001b[39;49m\u001b[38;5;124;43m'\u001b[39;49m\u001b[43m)\u001b[49m\n",
      "Cell \u001b[0;32mIn[90], line 3\u001b[0m, in \u001b[0;36mexception_example\u001b[0;34m(x)\u001b[0m\n\u001b[1;32m      1\u001b[0m \u001b[38;5;28;01mdef\u001b[39;00m\u001b[38;5;250m \u001b[39m\u001b[38;5;21mexception_example\u001b[39m(x):\n\u001b[1;32m      2\u001b[0m     \u001b[38;5;28mprint\u001b[39m(x)\n\u001b[0;32m----> 3\u001b[0m     x \u001b[38;5;241m=\u001b[39m \u001b[38;5;28;43mint\u001b[39;49m\u001b[43m(\u001b[49m\u001b[43mx\u001b[49m\u001b[43m)\u001b[49m\n\u001b[1;32m      4\u001b[0m     \u001b[38;5;28mprint\u001b[39m(x)\n",
      "\u001b[0;31mValueError\u001b[0m: invalid literal for int() with base 10: 'string'"
     ]
    }
   ],
   "source": [
    "def exception_example(x):\n",
    "    print(x)\n",
    "    x = int(x)\n",
    "    print(x)\n",
    "\n",
    "exception_example(1)\n",
    "exception_example('1')\n",
    "exception_example('string')"
   ]
  },
  {
   "cell_type": "code",
   "execution_count": 92,
   "metadata": {},
   "outputs": [
    {
     "ename": "AttributeError",
     "evalue": "'int' object has no attribute 'isdigit'",
     "output_type": "error",
     "traceback": [
      "\u001b[0;31m---------------------------------------------------------------------------\u001b[0m",
      "\u001b[0;31mAttributeError\u001b[0m                            Traceback (most recent call last)",
      "Cell \u001b[0;32mIn[92], line 2\u001b[0m\n\u001b[1;32m      1\u001b[0m x \u001b[38;5;241m=\u001b[39m \u001b[38;5;241m1\u001b[39m\n\u001b[0;32m----> 2\u001b[0m \u001b[43mx\u001b[49m\u001b[38;5;241;43m.\u001b[39;49m\u001b[43misdigit\u001b[49m()\n",
      "\u001b[0;31mAttributeError\u001b[0m: 'int' object has no attribute 'isdigit'"
     ]
    }
   ],
   "source": [
    "x = 1\n",
    "x.isdigit()"
   ]
  },
  {
   "cell_type": "code",
   "execution_count": 6,
   "metadata": {},
   "outputs": [
    {
     "ename": "KeyError",
     "evalue": "'z'",
     "output_type": "error",
     "traceback": [
      "\u001b[0;31m---------------------------------------------------------------------------\u001b[0m",
      "\u001b[0;31mKeyError\u001b[0m                                  Traceback (most recent call last)",
      "\u001b[0;32m<ipython-input-6-0ddfeed9796a>\u001b[0m in \u001b[0;36m<module>\u001b[0;34m()\u001b[0m\n\u001b[1;32m      1\u001b[0m \u001b[0mdata\u001b[0m \u001b[0;34m=\u001b[0m \u001b[0;34m{\u001b[0m\u001b[0;34m'x'\u001b[0m\u001b[0;34m:\u001b[0m \u001b[0;36m1\u001b[0m\u001b[0;34m,\u001b[0m \u001b[0;34m'y'\u001b[0m\u001b[0;34m:\u001b[0m \u001b[0;36m2\u001b[0m\u001b[0;34m}\u001b[0m\u001b[0;34m\u001b[0m\u001b[0m\n\u001b[1;32m      2\u001b[0m \u001b[0mdata\u001b[0m\u001b[0;34m[\u001b[0m\u001b[0;34m'x'\u001b[0m\u001b[0;34m]\u001b[0m\u001b[0;34m\u001b[0m\u001b[0m\n\u001b[0;32m----> 3\u001b[0;31m \u001b[0mdata\u001b[0m\u001b[0;34m[\u001b[0m\u001b[0;34m'z'\u001b[0m\u001b[0;34m]\u001b[0m\u001b[0;34m\u001b[0m\u001b[0m\n\u001b[0m",
      "\u001b[0;31mKeyError\u001b[0m: 'z'"
     ]
    }
   ],
   "source": [
    "data = {'x': 1, 'y': 2}\n",
    "data['x']\n",
    "data['z']"
   ]
  },
  {
   "cell_type": "markdown",
   "metadata": {},
   "source": [
    "## 13.2 Обработка исключений"
   ]
  },
  {
   "cell_type": "code",
   "execution_count": 3,
   "metadata": {},
   "outputs": [
    {
     "name": "stdout",
     "output_type": "stream",
     "text": [
      "Oops, there is no z key in this dictionary, setting default\n",
      "Oops, there is no z key in this dictionary, setting default\n",
      "value 2\n"
     ]
    }
   ],
   "source": [
    "data = {'x': 1, 'y': 2}\n",
    "\n",
    "try:\n",
    "    value = data['z']\n",
    "    print(1)\n",
    "except (KeyError, TypeError):\n",
    "    print('Oops, there is no z key in this dictionary, setting default')\n",
    "    value = 2\n",
    "else:\n",
    "    print('everything works properly, z is in place')\n",
    "\n",
    "\n",
    "# bad\n",
    "x = 1\n",
    "x += 1\n",
    "try:\n",
    "    value = data['z']\n",
    "    # write to file\n",
    "    print(1)\n",
    "except Exception:\n",
    "    print('Oops, there is no z key in this dictionary, setting default')\n",
    "    value = 2\n",
    "else:\n",
    "    print('everything works properly, z is in place')\n",
    "\n",
    "\n",
    "if 'z' not in data:\n",
    "    value = 2\n",
    "\n",
    "value = data.get('z', 2)\n",
    "print('value', value)"
   ]
  },
  {
   "cell_type": "markdown",
   "metadata": {},
   "source": [
    "## 12.3 Пользовательские исключения\n",
    "https://docs.python.org/3/library/exceptions.html#exception-hierarchy"
   ]
  },
  {
   "cell_type": "code",
   "execution_count": 1,
   "metadata": {},
   "outputs": [
    {
     "name": "stdin",
     "output_type": "stream",
     "text": [
      "Enter anything -->  2\n"
     ]
    },
    {
     "name": "stdout",
     "output_type": "stream",
     "text": [
      "ShortInputException: ops value is too short, 1 of 3\n"
     ]
    }
   ],
   "source": [
    "class ShortInputException(ValueError): \n",
    "    '''Пользовательский класс исключения.''' \n",
    "    def __init__(self, length, atleast):\n",
    "        super().__init__(self)\n",
    "        self.length = length\n",
    "        self.atleast = atleast\n",
    "\n",
    "try:\n",
    "    text = input('Enter anything --> ') \n",
    "    x = int(text)\n",
    "    \n",
    "    if len(text) < 3:\n",
    "        raise ShortInputException(len(text), 3)\n",
    "except ShortInputException as ex:\n",
    "    print(f'ShortInputException: ops value is too short, {ex.length} of {ex.atleast}') \n",
    "except ValueError:\n",
    "    print('Text is not a number')\n",
    "else:\n",
    "    print('Everything is fine.')"
   ]
  },
  {
   "cell_type": "code",
   "execution_count": 11,
   "metadata": {},
   "outputs": [
    {
     "name": "stdout",
     "output_type": "stream",
     "text": [
      "The Zen of Python, by Tim Peters\n",
      "\n",
      "Beautiful is better than ugly.\n",
      "Explicit is better than implicit.\n",
      "Simple is better than complex.\n",
      "Complex is better than complicated.\n",
      "Flat is better than nested.\n",
      "Sparse is better than dense.\n",
      "Readability counts.\n",
      "Special cases aren't special enough to break the rules.\n",
      "Although practicality beats purity.\n",
      "Errors should never pass silently.\n",
      "Unless explicitly silenced.\n",
      "In the face of ambiguity, refuse the temptation to guess.\n",
      "There should be one-- and preferably only one --obvious way to do it.\n",
      "Although that way may not be obvious at first unless you're Dutch.\n",
      "Now is better than never.\n",
      "Although never is often better than *right* now.\n",
      "If the implementation is hard to explain, it's a bad idea.\n",
      "If the implementation is easy to explain, it may be a good idea.\n",
      "Namespaces are one honking great idea -- let's do more of those!File is closed now\n"
     ]
    }
   ],
   "source": [
    "try:\n",
    "    f = open('zen.txt')\n",
    "    while True: \n",
    "        line = f.readline() \n",
    "\n",
    "        if len(line) == 0:\n",
    "            break\n",
    "        print(line, end='')\n",
    "finally: \n",
    "    f.close()\n",
    "    print('File is closed now')"
   ]
  },
  {
   "cell_type": "markdown",
   "metadata": {},
   "source": [
    "## 13.4 Контекстный менеджер (with)\n",
    "\n",
    "Типичной схемой является запрос некоторого ресурса в блоке try с последующим освобождением этого ресурса в блоке finally. Для того, чтобы сделать это более «чисто», существует оператор with.\n",
    "\n",
    "Документация: https://docs.python.org/3/library/contextlib.html\n"
   ]
  },
  {
   "cell_type": "code",
   "execution_count": 3,
   "metadata": {},
   "outputs": [
    {
     "name": "stdout",
     "output_type": "stream",
     "text": [
      "The Zen of Python, by Tim Peters\n",
      "\n",
      "Beautiful is better than ugly.\n",
      "Explicit is better than implicit.\n",
      "Simple is better than complex.\n",
      "Complex is better than complicated.\n",
      "Flat is better than nested.\n",
      "Sparse is better than dense.\n",
      "Readability counts.\n",
      "Special cases aren't special enough to break the rules.\n",
      "Although practicality beats purity.\n",
      "Errors should never pass silently.\n",
      "Unless explicitly silenced.\n",
      "In the face of ambiguity, refuse the temptation to guess.\n",
      "There should be one-- and preferably only one --obvious way to do it.\n",
      "Although that way may not be obvious at first unless you're Dutch.\n",
      "Now is better than never.\n",
      "Although never is often better than *right* now.\n",
      "If the implementation is hard to explain, it's a bad idea.\n",
      "If the implementation is easy to explain, it may be a good idea.\n",
      "Namespaces are one honking great idea -- let's do more of those!File is already closed\n"
     ]
    }
   ],
   "source": [
    "with open('zen.txt') as f: \n",
    "    for line in f:\n",
    "        print(line, end='')\n",
    "print('File is already closed')"
   ]
  },
  {
   "cell_type": "markdown",
   "metadata": {},
   "source": [
    "#### Пример использования контекста"
   ]
  },
  {
   "cell_type": "code",
   "execution_count": 8,
   "metadata": {},
   "outputs": [
    {
     "name": "stdout",
     "output_type": "stream",
     "text": [
      "0.035714285714285714285714285714285714285714285714285714286\n"
     ]
    }
   ],
   "source": [
    "from decimal import Decimal, localcontext\n",
    "\n",
    "with localcontext() as context:\n",
    "    context.prec = 56\n",
    "    print(Decimal(\"1\") / Decimal(\"28\"))"
   ]
  },
  {
   "cell_type": "code",
   "execution_count": 15,
   "metadata": {},
   "outputs": [
    {
     "name": "stdout",
     "output_type": "stream",
     "text": [
      "0.03571428571428571428571428571\n"
     ]
    }
   ],
   "source": [
    "print(Decimal(\"1\") / Decimal(\"28\"))"
   ]
  },
  {
   "cell_type": "markdown",
   "metadata": {},
   "source": [
    "#### Пример использования в тестах"
   ]
  },
  {
   "cell_type": "code",
   "execution_count": 31,
   "metadata": {},
   "outputs": [],
   "source": [
    "import re\n",
    "\n",
    "class InvalidPhoneFormatException(ValueError):\n",
    "    pass\n",
    "\n",
    "    \n",
    "def parse_phone(phone: str , is_plus_required=True) -> str:\n",
    "    \"\"\"Возвращает номер телефона в формате 7XXXXXXXXXX или +7XXXXXXXXXX\"\"\"\n",
    "    if is_plus_required and not phone.startswith('+'):\n",
    "        raise InvalidPhoneFormatException(f'Invalid phone format: {phone}')\n",
    "    \n",
    "\n",
    "    pattern = r'[^\\+\\d]' if is_plus_required else r'[^\\d]'\n",
    "    return re.sub(pattern, '', phone)\n"
   ]
  },
  {
   "cell_type": "code",
   "execution_count": 14,
   "metadata": {},
   "outputs": [],
   "source": [
    "import ipytest\n",
    "ipytest.autoconfig()"
   ]
  },
  {
   "cell_type": "code",
   "execution_count": 36,
   "metadata": {},
   "outputs": [
    {
     "name": "stdout",
     "output_type": "stream",
     "text": [
      "\u001b[32m.\u001b[0m\u001b[32m.\u001b[0m\u001b[32m                                                                                           [100%]\u001b[0m\n"
     ]
    }
   ],
   "source": [
    "%%ipytest -qq\n",
    "import pytest\n",
    "\n",
    "def test_parse_phone():\n",
    "    # Act & Assert\n",
    "    assert parse_phone('+7(910)510-07-00') == '+79105100700'\n",
    "\n",
    "def test_parse_phone__no_plus__raise_exception():\n",
    "    # Act & Assert\n",
    "    with pytest.raises(InvalidPhoneFormatException) as ex:\n",
    "        parse_phone('7(910)510-07-00')\n",
    "\n",
    "    assert ex.value.args[0] == 'Invalid phone format: 7(910)510-07-00'"
   ]
  },
  {
   "cell_type": "markdown",
   "metadata": {},
   "source": [
    "## 13.5 Реализация контекстного менеджера"
   ]
  },
  {
   "cell_type": "code",
   "execution_count": 41,
   "metadata": {},
   "outputs": [],
   "source": [
    "import time\n",
    "\n",
    "class Timer:\n",
    "    def __enter__(self):\n",
    "        self.start = time.perf_counter()\n",
    "        return self\n",
    "\n",
    "    def __exit__(self, exc_type, exc_val, exc_tb):\n",
    "        self.stop = time.perf_counter()\n",
    "        self.total = self.stop - self.start"
   ]
  },
  {
   "cell_type": "code",
   "execution_count": 45,
   "metadata": {},
   "outputs": [
    {
     "name": "stdout",
     "output_type": "stream",
     "text": [
      "Total time spent: 1.67 sec\n"
     ]
    }
   ],
   "source": [
    "t = Timer()\n",
    "with t:\n",
    "    result = sum(range(100_500_000))\n",
    "\n",
    "print(f'Total time spent: {t.total:.2f} sec')"
   ]
  },
  {
   "cell_type": "markdown",
   "metadata": {},
   "source": [
    "#### Контекстное определение переменных окружения"
   ]
  },
  {
   "cell_type": "code",
   "execution_count": 46,
   "metadata": {},
   "outputs": [],
   "source": [
    "import os\n",
    "\n",
    "class set_env_var:\n",
    "    def __init__(self, var_name, new_value):\n",
    "        self.var_name = var_name\n",
    "        self.new_value = new_value\n",
    "\n",
    "    def __enter__(self):\n",
    "        self.original_value = os.environ.get(self.var_name)\n",
    "        os.environ[self.var_name] = self.new_value\n",
    "\n",
    "    def __exit__(self, exc_type, exc_val, exc_tb):\n",
    "        if self.original_value is None:\n",
    "            del os.environ[self.var_name]\n",
    "        else:\n",
    "            os.environ[self.var_name] = self.original_value"
   ]
  },
  {
   "cell_type": "code",
   "execution_count": 48,
   "metadata": {},
   "outputs": [],
   "source": [
    "os.environ['active_user'] = 'Petr'"
   ]
  },
  {
   "cell_type": "code",
   "execution_count": 55,
   "metadata": {},
   "outputs": [
    {
     "name": "stdout",
     "output_type": "stream",
     "text": [
      "Active user: Petr\n",
      "Active context user: Ivan\n",
      "Active context user after context: Petr\n"
     ]
    }
   ],
   "source": [
    "print(f'Active user: {os.environ[\"active_user\"]}')\n",
    "with set_env_var('active_user', 'Ivan'):\n",
    "    print(f'Active context user: {os.environ[\"active_user\"]}')\n",
    "\n",
    "print(f'Active context user after context: {os.environ[\"active_user\"]}')"
   ]
  },
  {
   "cell_type": "markdown",
   "metadata": {},
   "source": [
    "#### Пример реализации конекстного менеджера через функцию-генератор"
   ]
  },
  {
   "cell_type": "code",
   "execution_count": 76,
   "metadata": {},
   "outputs": [],
   "source": [
    "from contextlib import contextmanager\n",
    "import os\n",
    "\n",
    "\n",
    "@contextmanager\n",
    "def set_env_var(var_name, new_value):\n",
    "    original_value = os.environ.get(var_name)\n",
    "    os.environ[var_name] = new_value\n",
    "    try:\n",
    "        yield\n",
    "    finally:\n",
    "        if original_value is None:\n",
    "            del os.environ[var_name]\n",
    "        else:\n",
    "            os.environ[var_name] = original_value"
   ]
  },
  {
   "cell_type": "code",
   "execution_count": 78,
   "metadata": {},
   "outputs": [
    {
     "name": "stdout",
     "output_type": "stream",
     "text": [
      "Active user: Petr\n",
      "Active context user: Ivan\n",
      "Active context user after context: Petr\n"
     ]
    }
   ],
   "source": [
    "print(f'Active user: {os.environ[\"active_user\"]}')\n",
    "with set_env_var('active_user', 'Ivan'):\n",
    "    print(f'Active context user: {os.environ[\"active_user\"]}')\n",
    "\n",
    "print(f'Active context user after context: {os.environ[\"active_user\"]}')"
   ]
  },
  {
   "cell_type": "code",
   "execution_count": 66,
   "metadata": {},
   "outputs": [
    {
     "name": "stdout",
     "output_type": "stream",
     "text": [
      "Entering the context...\n",
      "12\n",
      "Leaving the context...\n"
     ]
    }
   ],
   "source": [
    "from contextlib import contextmanager\n",
    "\n",
    "@contextmanager\n",
    "def hello_context_manager():\n",
    "     print(\"Entering the context...\")\n",
    "     yield 12\n",
    "     print(\"Leaving the context...\")\n",
    "\n",
    "\n",
    "with hello_context_manager() as hello:\n",
    "     print(hello)\n"
   ]
  },
  {
   "cell_type": "markdown",
   "metadata": {},
   "source": [
    "### Пример работы с файлом"
   ]
  },
  {
   "cell_type": "code",
   "execution_count": 79,
   "metadata": {},
   "outputs": [],
   "source": [
    "from contextlib import contextmanager\n",
    "\n",
    "@contextmanager\n",
    "def writable_file(file_path):\n",
    "    file = open(file_path, mode=\"w\")\n",
    "    try:\n",
    "        yield file\n",
    "    finally:\n",
    "        file.close()\n"
   ]
  },
  {
   "cell_type": "code",
   "execution_count": 88,
   "metadata": {},
   "outputs": [],
   "source": [
    "users = ['Ivan', 'Petr']\n",
    "with writable_file('users.txt') as file:\n",
    "    file.write('\\n'.join(users))\n"
   ]
  }
 ],
 "metadata": {
  "kernelspec": {
   "display_name": "Python 3 (ipykernel)",
   "language": "python",
   "name": "python3"
  },
  "language_info": {
   "codemirror_mode": {
    "name": "ipython",
    "version": 3
   },
   "file_extension": ".py",
   "mimetype": "text/x-python",
   "name": "python",
   "nbconvert_exporter": "python",
   "pygments_lexer": "ipython3",
   "version": "3.12.1"
  }
 },
 "nbformat": 4,
 "nbformat_minor": 4
}
