{
 "cells": [
  {
   "cell_type": "markdown",
   "id": "f1f3c4ac-8370-4178-9049-dec8d1289012",
   "metadata": {},
   "source": [
    "## Hashable-объекты"
   ]
  },
  {
   "cell_type": "code",
   "execution_count": 157,
   "id": "fa755f8c-609c-46ad-bc02-4495dab8e950",
   "metadata": {},
   "outputs": [],
   "source": [
    "class User:\n",
    "    def __init__(self, name: str, surname: str, is_active: bool = False):\n",
    "        self.name = name\n",
    "        self.surname = surname\n",
    "        self.is_active = is_active\n"
   ]
  },
  {
   "cell_type": "code",
   "execution_count": 158,
   "id": "f07a6aeb-2489-49ea-ad48-931bb46c0e74",
   "metadata": {},
   "outputs": [
    {
     "name": "stdout",
     "output_type": "stream",
     "text": [
      "User\n",
      "Petr\n"
     ]
    }
   ],
   "source": [
    "u = User(name='User', surname='Petrov')\n",
    "print(u.name)\n",
    "u.name = 'Petr'\n",
    "print(u.name)"
   ]
  },
  {
   "cell_type": "markdown",
   "id": "523b7970-a934-4a90-889e-2027fbcbb196",
   "metadata": {},
   "source": [
    "**Ответьте на вопросы**: \n",
    "  - можно ли использовать объекты класса User в качестве ключа в словаре?\n",
    "  - являются ли объекты класса User хэшируемыми?\n",
    "  - являются ли объекты класса User изменяемыми?"
   ]
  },
  {
   "cell_type": "code",
   "execution_count": 15,
   "id": "9cd2ba79-7ecb-4a07-b166-356873e5cdff",
   "metadata": {},
   "outputs": [
    {
     "data": {
      "text/plain": [
       "529344067295497451"
      ]
     },
     "execution_count": 15,
     "metadata": {},
     "output_type": "execute_result"
    }
   ],
   "source": [
    "data = (1, 2, 3)\n",
    "hash(data)"
   ]
  },
  {
   "cell_type": "code",
   "execution_count": 16,
   "id": "14073f00-45d4-4a94-9b33-150dd4e3a881",
   "metadata": {},
   "outputs": [
    {
     "ename": "TypeError",
     "evalue": "unhashable type: 'list'",
     "output_type": "error",
     "traceback": [
      "\u001b[0;31m---------------------------------------------------------------------------\u001b[0m",
      "\u001b[0;31mTypeError\u001b[0m                                 Traceback (most recent call last)",
      "Cell \u001b[0;32mIn[16], line 1\u001b[0m\n\u001b[0;32m----> 1\u001b[0m \u001b[38;5;28;43mhash\u001b[39;49m\u001b[43m(\u001b[49m\u001b[43m[\u001b[49m\u001b[38;5;241;43m1\u001b[39;49m\u001b[43m,\u001b[49m\u001b[43m \u001b[49m\u001b[38;5;241;43m2\u001b[39;49m\u001b[43m,\u001b[49m\u001b[43m \u001b[49m\u001b[38;5;241;43m3\u001b[39;49m\u001b[43m]\u001b[49m\u001b[43m)\u001b[49m\n",
      "\u001b[0;31mTypeError\u001b[0m: unhashable type: 'list'"
     ]
    }
   ],
   "source": [
    "hash([1, 2, 3])"
   ]
  },
  {
   "cell_type": "markdown",
   "id": "05e1ec2a-9701-45c9-a165-8ba0e51e5708",
   "metadata": {},
   "source": [
    "#### Являются ли объекты класса User hashable?"
   ]
  },
  {
   "cell_type": "code",
   "execution_count": 160,
   "id": "a919ce60-d382-4cdc-8abc-7f5ed047d6ef",
   "metadata": {},
   "outputs": [
    {
     "name": "stdout",
     "output_type": "stream",
     "text": [
      "{<__main__.User object at 0x1185d15e0>: 20, <__main__.User object at 0x1185d1070>: 26}\n",
      "293982471\n",
      "293982558\n"
     ]
    }
   ],
   "source": [
    "\n",
    "petr = User(name='Petr', surname='Petrov')\n",
    "petr_clone = User(name='Petr', surname='Petrov')\n",
    "\n",
    "user_age_map = {\n",
    "    petr: 20, \n",
    "    petr_clone: 26,\n",
    "}\n",
    "print(user_age_map)\n",
    "\n",
    "print(hash(petr_clone))\n",
    "print(hash(petr))\n"
   ]
  },
  {
   "cell_type": "code",
   "execution_count": 161,
   "id": "43be49f8-84cb-49ee-9a87-b208e2c37f09",
   "metadata": {},
   "outputs": [
    {
     "data": {
      "text/plain": [
       "20"
      ]
     },
     "execution_count": 161,
     "metadata": {},
     "output_type": "execute_result"
    }
   ],
   "source": [
    "user_age_map[petr]"
   ]
  },
  {
   "cell_type": "markdown",
   "id": "120550c5-36c6-4fef-bfb5-9761db664c05",
   "metadata": {},
   "source": [
    "Видим, что объекты являются хэшируемыми, но есть нюанс.."
   ]
  },
  {
   "cell_type": "code",
   "execution_count": 162,
   "id": "b567c725-ea12-412e-bece-491dc06dbf8c",
   "metadata": {},
   "outputs": [
    {
     "ename": "KeyError",
     "evalue": "<__main__.User object at 0x11924aff0>",
     "output_type": "error",
     "traceback": [
      "\u001b[0;31m---------------------------------------------------------------------------\u001b[0m",
      "\u001b[0;31mKeyError\u001b[0m                                  Traceback (most recent call last)",
      "Cell \u001b[0;32mIn[162], line 2\u001b[0m\n\u001b[1;32m      1\u001b[0m petr2 \u001b[38;5;241m=\u001b[39m User(name\u001b[38;5;241m=\u001b[39m\u001b[38;5;124m'\u001b[39m\u001b[38;5;124mPetr\u001b[39m\u001b[38;5;124m'\u001b[39m, surname\u001b[38;5;241m=\u001b[39m\u001b[38;5;124m'\u001b[39m\u001b[38;5;124mPetrov\u001b[39m\u001b[38;5;124m'\u001b[39m)\n\u001b[0;32m----> 2\u001b[0m \u001b[43muser_age_map\u001b[49m\u001b[43m[\u001b[49m\u001b[43mpetr2\u001b[49m\u001b[43m]\u001b[49m\n",
      "\u001b[0;31mKeyError\u001b[0m: <__main__.User object at 0x11924aff0>"
     ]
    }
   ],
   "source": [
    "petr2 = User(name='Petr', surname='Petrov')\n",
    "user_age_map[petr2]"
   ]
  },
  {
   "cell_type": "code",
   "execution_count": 164,
   "id": "602c07ea-39c0-4511-af04-b8ea1072e7f3",
   "metadata": {},
   "outputs": [
    {
     "data": {
      "text/plain": [
       "20"
      ]
     },
     "execution_count": 164,
     "metadata": {},
     "output_type": "execute_result"
    }
   ],
   "source": [
    "user_age_map1 = {\n",
    "    'Petr Petrov': 20\n",
    "}\n",
    "user_age_map1['Petr Petrov']\n"
   ]
  },
  {
   "cell_type": "markdown",
   "id": "efa77338-98e9-41f2-80d2-383b30f7031b",
   "metadata": {},
   "source": [
    "Ожидаемое поведение аналогично строкам, например:"
   ]
  },
  {
   "cell_type": "code",
   "execution_count": 26,
   "id": "cb29195c-4a1e-4d25-8f28-c46656964932",
   "metadata": {},
   "outputs": [],
   "source": [
    "user_age_map1 = {\n",
    "    'Petr Petrov': 20,\n",
    "    'Petr Petrov': 26\n",
    "}"
   ]
  },
  {
   "cell_type": "code",
   "execution_count": 28,
   "id": "a8d32319-fad7-4dda-9b9e-96419740e02d",
   "metadata": {},
   "outputs": [
    {
     "data": {
      "text/plain": [
       "{'Petr Petrov': 26}"
      ]
     },
     "execution_count": 28,
     "metadata": {},
     "output_type": "execute_result"
    }
   ],
   "source": [
    "user_age_map1\n"
   ]
  },
  {
   "cell_type": "code",
   "execution_count": 30,
   "id": "0c23cb0d-e8a7-4e40-81f7-b5f54e677e86",
   "metadata": {},
   "outputs": [
    {
     "data": {
      "text/plain": [
       "8397874054901821506"
      ]
     },
     "execution_count": 30,
     "metadata": {},
     "output_type": "execute_result"
    }
   ],
   "source": [
    "hash('Petr Petrov')"
   ]
  },
  {
   "cell_type": "code",
   "execution_count": 32,
   "id": "3c489a3e-335c-40fc-bbca-610373fa6f89",
   "metadata": {},
   "outputs": [
    {
     "data": {
      "text/plain": [
       "8397874054901821506"
      ]
     },
     "execution_count": 32,
     "metadata": {},
     "output_type": "execute_result"
    }
   ],
   "source": [
    "hash('Petr Petrov')"
   ]
  },
  {
   "cell_type": "code",
   "execution_count": 165,
   "id": "9b92e6a3-313a-4438-9fab-0816eff2d8b1",
   "metadata": {},
   "outputs": [
    {
     "data": {
      "text/plain": [
       "False"
      ]
     },
     "execution_count": 165,
     "metadata": {},
     "output_type": "execute_result"
    }
   ],
   "source": [
    "petr == petr_clone"
   ]
  },
  {
   "cell_type": "markdown",
   "id": "788b1a0a-2d46-46cd-bfb1-81e9abc9611b",
   "metadata": {},
   "source": [
    "Т.е. hash-значения объектов равны"
   ]
  },
  {
   "cell_type": "code",
   "execution_count": 166,
   "id": "cbbac69a-6376-4adf-a0c4-5bfcdd293faa",
   "metadata": {},
   "outputs": [
    {
     "data": {
      "text/plain": [
       "True"
      ]
     },
     "execution_count": 166,
     "metadata": {},
     "output_type": "execute_result"
    }
   ],
   "source": [
    "'Petr Petrov' == 'Petr Petrov'"
   ]
  },
  {
   "cell_type": "markdown",
   "id": "ac3e0569-88de-4a79-b4f9-97d45d00fc59",
   "metadata": {},
   "source": [
    "А вот hash-значения объектов класса User отличаются"
   ]
  },
  {
   "cell_type": "code",
   "execution_count": 37,
   "id": "7748cb52-23e1-4415-a984-fb077969830d",
   "metadata": {},
   "outputs": [
    {
     "data": {
      "text/plain": [
       "False"
      ]
     },
     "execution_count": 37,
     "metadata": {},
     "output_type": "execute_result"
    }
   ],
   "source": [
    "User(name='Petr', surname='Petrov') == User(name='Petr', surname='Petrov')"
   ]
  },
  {
   "cell_type": "markdown",
   "id": "98c6bdb2-3235-4f55-bb0e-844d99ace92c",
   "metadata": {},
   "source": [
    "#### Как реализовать hashable-объекты правильно? Модель данных!"
   ]
  },
  {
   "cell_type": "code",
   "execution_count": 109,
   "id": "579040f0-65d8-48be-b34d-29888348162a",
   "metadata": {},
   "outputs": [],
   "source": [
    "class User:\n",
    "    def __init__(self, name: str, surname: str, is_active: bool = False):\n",
    "        self.__name = name\n",
    "        self.__surname = surname\n",
    "        self.__is_active = is_active\n",
    "\n",
    "    def __hash__(self):\n",
    "        return hash((self.__name, self.__surname))\n",
    "\n",
    "    def __eq__(self, other):\n",
    "        return self.__name == other.__name and self.__surname == other.__surname\n"
   ]
  },
  {
   "cell_type": "code",
   "execution_count": 110,
   "id": "171ed47b-a3a1-41b1-a29e-2907cdf78105",
   "metadata": {},
   "outputs": [
    {
     "name": "stdout",
     "output_type": "stream",
     "text": [
      "{<__main__.User object at 0x119339130>: 26}\n"
     ]
    },
    {
     "data": {
      "text/plain": [
       "26"
      ]
     },
     "execution_count": 110,
     "metadata": {},
     "output_type": "execute_result"
    }
   ],
   "source": [
    "\n",
    "petr = User(name='Petr', surname='Petrov')\n",
    "petr_clone = User(name='Petr', surname='Petrov')\n",
    "\n",
    "user_age_map = {\n",
    "    petr: 20, \n",
    "    petr_clone: 26,\n",
    "}\n",
    "print(user_age_map)\n",
    "user_age_map[User(name='Petr', surname='Petrov')]"
   ]
  },
  {
   "cell_type": "code",
   "execution_count": 78,
   "id": "85bf0f0d-f851-4422-b731-8db8cbba739a",
   "metadata": {},
   "outputs": [
    {
     "name": "stdout",
     "output_type": "stream",
     "text": [
      "5870677628674637673 =? 5870677628674637673\n"
     ]
    }
   ],
   "source": [
    "print(f'{hash(petr)} =? {hash(petr_clone)}')"
   ]
  },
  {
   "cell_type": "code",
   "execution_count": 64,
   "id": "b35239fd-5ab8-4535-9fb3-2c91d19a59ae",
   "metadata": {},
   "outputs": [
    {
     "data": {
      "text/plain": [
       "5870677628674637673"
      ]
     },
     "execution_count": 64,
     "metadata": {},
     "output_type": "execute_result"
    }
   ],
   "source": [
    "hash(('Petr', 'Petrov'))"
   ]
  },
  {
   "cell_type": "code",
   "execution_count": 72,
   "id": "8a7ed225-e99f-4ac7-b7e2-4615d98c9c3a",
   "metadata": {},
   "outputs": [
    {
     "data": {
      "text/plain": [
       "True"
      ]
     },
     "execution_count": 72,
     "metadata": {},
     "output_type": "execute_result"
    }
   ],
   "source": [
    "hash(petr) == hash(petr_clone) == hash(User(name='Petr', surname='Petrov'))"
   ]
  },
  {
   "cell_type": "code",
   "execution_count": 73,
   "id": "06c0645f-cf72-4b3f-816f-11927a3e4b16",
   "metadata": {},
   "outputs": [
    {
     "data": {
      "text/plain": [
       "False"
      ]
     },
     "execution_count": 73,
     "metadata": {},
     "output_type": "execute_result"
    }
   ],
   "source": [
    "petr == petr_clone == User(name='Petr', surname='Petrov')"
   ]
  },
  {
   "cell_type": "code",
   "execution_count": 98,
   "id": "46a7f28f-495d-4d99-871c-d01141d8550c",
   "metadata": {},
   "outputs": [
    {
     "name": "stdout",
     "output_type": "stream",
     "text": [
      "26\n"
     ]
    }
   ],
   "source": [
    "bucket = [\n",
    "    (('Petr', 'Ivanov'), 22), \n",
    "    (('Petr', 'Petrov'), 26), \n",
    "    (('Petr', 'Abramov'), 75)\n",
    "]\n",
    "key = ('Petr', 'Petrov')\n",
    "\n",
    "for value, age in bucket:\n",
    "    if key == value:\n",
    "        print(age)"
   ]
  },
  {
   "cell_type": "code",
   "execution_count": 99,
   "id": "9241cdb9-3155-4b32-8d9e-eacbee809361",
   "metadata": {},
   "outputs": [
    {
     "name": "stdout",
     "output_type": "stream",
     "text": [
      "22\n",
      "26\n"
     ]
    }
   ],
   "source": [
    "bucket = [\n",
    "    (petr, 22), \n",
    "    (petr_clone, 26), \n",
    "]\n",
    "key = User(name='Petr', surname='Petrov')\n",
    "\n",
    "for value, age in bucket:\n",
    "    if key == value:\n",
    "        print(age)"
   ]
  },
  {
   "cell_type": "code",
   "execution_count": 114,
   "id": "bbe7ca0c-caeb-4045-9804-540d8bd8cc7f",
   "metadata": {},
   "outputs": [
    {
     "name": "stdout",
     "output_type": "stream",
     "text": [
      "hash before = 5870677628674637673\n",
      "hash after = 5870677628674637673\n",
      "{<__main__.User object at 0x119339370>: 20, <__main__.User object at 0x11933b5f0>: 26}\n"
     ]
    },
    {
     "data": {
      "text/plain": [
       "20"
      ]
     },
     "execution_count": 114,
     "metadata": {},
     "output_type": "execute_result"
    }
   ],
   "source": [
    "petr = User(name='Petr', surname='Petrov')\n",
    "ivan = User(name='Ivan', surname='Ivanov')\n",
    "print(f'hash before = {hash(petr)}')\n",
    "user_age_map = {\n",
    "    petr: 20, \n",
    "    ivan: 26,\n",
    "}\n",
    "\n",
    "petr.name = 'Fedr'\n",
    "print(f'hash after = {hash(petr)}')\n",
    "\n",
    "print(user_age_map)\n",
    "user_age_map[petr]"
   ]
  },
  {
   "cell_type": "markdown",
   "id": "18e2603e-7e45-418c-8de0-5c263e56d198",
   "metadata": {},
   "source": [
    "#### Еще пример"
   ]
  },
  {
   "cell_type": "code",
   "execution_count": 124,
   "id": "31f2e87a-0021-4820-8ffc-721074ecd65e",
   "metadata": {},
   "outputs": [
    {
     "name": "stdout",
     "output_type": "stream",
     "text": [
      "1\n",
      "{Point(x=1, y=1), Point(x=0, y=0)}\n",
      "8389048192121911274\n",
      "8389048192121911274\n",
      "(1, 1)\n",
      "Point(x=1, y=1)\n"
     ]
    }
   ],
   "source": [
    "class Point:\n",
    "    def __init__(self, x: int, y: int):\n",
    "        self.__x = x\n",
    "        self.__y = y\n",
    "    \n",
    "    def __eq__(self, other):\n",
    "        return self.__x == other.__x and self.__y == other.__y\n",
    "    \n",
    "    def __hash__(self):\n",
    "        return hash((self.__x, self.__y))\n",
    "    \n",
    "    def __repr__(self):  # Point(x=1, y=2)\n",
    "        return f'Point(x={self.__x}, y={self.__y})'\n",
    "\n",
    "    def __str__(self):  # (1, 2)\n",
    "        return f'({self.__x}, {self.__y})'\n",
    "    \n",
    "    @property\n",
    "    def x(self):\n",
    "        return self.__x\n",
    "    \n",
    "    @property\n",
    "    def y(self):\n",
    "        return self.__y\n",
    "\n",
    "\n",
    "point_a = Point(1, 1)\n",
    "point_b = Point(1, 1)\n",
    "print(point_a.x)\n",
    "points = {point_a, point_b, Point(0, 0), point_a}\n",
    "print(points)\n",
    "\n",
    "print(hash(point_a))\n",
    "print(hash(point_b))\n",
    "\n",
    "print(point_a)\n",
    "print(repr(point_a))\n"
   ]
  },
  {
   "cell_type": "markdown",
   "id": "f1db1dc0-1144-4cbc-b65d-4e412babb2b2",
   "metadata": {},
   "source": [
    "#### Есть ли способ проще? Dataclass"
   ]
  },
  {
   "cell_type": "code",
   "execution_count": 129,
   "id": "e21d66a7-be15-448a-85e6-936bb1471017",
   "metadata": {},
   "outputs": [
    {
     "data": {
      "text/plain": [
       "{Point(x=0, y=0), Point(x=1, y=1)}"
      ]
     },
     "execution_count": 129,
     "metadata": {},
     "output_type": "execute_result"
    }
   ],
   "source": [
    "from dataclasses import dataclass\n",
    "\n",
    "\n",
    "@dataclass(frozen=True)\n",
    "class Point:\n",
    "    x: int\n",
    "    y: int\n",
    "\n",
    "\n",
    "point_a = Point(1, 1)\n",
    "point_b = Point(1, 1)\n",
    "{point_a, point_b, Point(0, 0), point_a}"
   ]
  },
  {
   "cell_type": "code",
   "execution_count": 26,
   "id": "5a31576d-4f05-4815-9c22-4f3227006e7f",
   "metadata": {},
   "outputs": [
    {
     "data": {
      "text/plain": [
       "False"
      ]
     },
     "execution_count": 26,
     "metadata": {},
     "output_type": "execute_result"
    }
   ],
   "source": [
    "point_a == point_b"
   ]
  },
  {
   "cell_type": "code",
   "execution_count": 37,
   "id": "143d47e4-d856-4ed4-828d-a90fe4a6c2c4",
   "metadata": {},
   "outputs": [
    {
     "data": {
      "text/plain": [
       "4"
      ]
     },
     "execution_count": 37,
     "metadata": {},
     "output_type": "execute_result"
    }
   ],
   "source": [
    "hash((10, 1)) % 20"
   ]
  },
  {
   "cell_type": "code",
   "execution_count": 10,
   "id": "2e2988f5-b801-412c-a244-3a0ac0db6aa9",
   "metadata": {},
   "outputs": [
    {
     "data": {
      "text/plain": [
       "{(0, 0), (1, 1)}"
      ]
     },
     "execution_count": 10,
     "metadata": {},
     "output_type": "execute_result"
    }
   ],
   "source": [
    "{(1, 1), (1, 1), (0, 0)}"
   ]
  },
  {
   "cell_type": "code",
   "execution_count": 127,
   "id": "faaf31e0-66ad-40ff-9b2c-577a5487d5d5",
   "metadata": {},
   "outputs": [
    {
     "name": "stdout",
     "output_type": "stream",
     "text": [
      "{'petr': 26}\n"
     ]
    }
   ],
   "source": [
    "user_age_map = {\n",
    "    'petr': 20, \n",
    "    'petr': 26,\n",
    "}\n",
    "print(user_age_map)"
   ]
  },
  {
   "cell_type": "code",
   "execution_count": 131,
   "id": "b360a87c-242d-4088-8d09-faf5b7a53a0b",
   "metadata": {},
   "outputs": [],
   "source": [
    "@dataclass(slots=True)\n",
    "class Point:\n",
    "    x: int\n",
    "    y: int\n"
   ]
  },
  {
   "cell_type": "code",
   "execution_count": 146,
   "id": "6999b2aa-7022-4d49-85e3-1b14838682b6",
   "metadata": {},
   "outputs": [
    {
     "name": "stdout",
     "output_type": "stream",
     "text": [
      "<__main__.Point object at 0x1194a6290>\n"
     ]
    }
   ],
   "source": [
    "point_a = Point(1, 1)\n",
    "point_a.x = 2\n",
    "print(point_a)"
   ]
  },
  {
   "cell_type": "code",
   "execution_count": 138,
   "id": "1b729161-cdfd-49b0-8981-d349ab6e5687",
   "metadata": {},
   "outputs": [
    {
     "data": {
      "text/plain": [
       "{'x': 1, 'y': 1, 'z': 3}"
      ]
     },
     "execution_count": 138,
     "metadata": {},
     "output_type": "execute_result"
    }
   ],
   "source": [
    "class Point:\n",
    "    def __init__(self, x: int, y: int):\n",
    "        self.x = x\n",
    "        self.y = y\n",
    "\n",
    "point_a = Point(1, 1)\n",
    "point_a.z = 3\n",
    "point_a.__dict__"
   ]
  },
  {
   "cell_type": "code",
   "execution_count": 141,
   "id": "81cc7011-5394-4255-a0e1-19df9527e53d",
   "metadata": {},
   "outputs": [],
   "source": [
    "class Point:\n",
    "    __slots__ = ['x', 'y']\n",
    "    def __init__(self, x: int, y: int):\n",
    "        self.x = x\n",
    "        self.y = y\n"
   ]
  },
  {
   "cell_type": "code",
   "execution_count": 144,
   "id": "0a0481ae-e358-48f6-89b6-936196814ee7",
   "metadata": {},
   "outputs": [
    {
     "ename": "AttributeError",
     "evalue": "'Point' object has no attribute 'z'",
     "output_type": "error",
     "traceback": [
      "\u001b[0;31m---------------------------------------------------------------------------\u001b[0m",
      "\u001b[0;31mAttributeError\u001b[0m                            Traceback (most recent call last)",
      "Cell \u001b[0;32mIn[144], line 2\u001b[0m\n\u001b[1;32m      1\u001b[0m point_a \u001b[38;5;241m=\u001b[39m Point(\u001b[38;5;241m1\u001b[39m, \u001b[38;5;241m1\u001b[39m)\n\u001b[0;32m----> 2\u001b[0m \u001b[43mpoint_a\u001b[49m\u001b[38;5;241;43m.\u001b[39;49m\u001b[43mz\u001b[49m \u001b[38;5;241m=\u001b[39m \u001b[38;5;241m3\u001b[39m\n",
      "\u001b[0;31mAttributeError\u001b[0m: 'Point' object has no attribute 'z'"
     ]
    }
   ],
   "source": [
    "point_a = Point(1, 1)\n",
    "point_a.z = 3"
   ]
  },
  {
   "cell_type": "markdown",
   "id": "e572603d-c3d2-408f-94bd-c4964c7dc07b",
   "metadata": {},
   "source": [
    "### P.S. Модель данных в Python\n",
    "https://docs.python.org/3/reference/datamodel.html"
   ]
  },
  {
   "cell_type": "code",
   "execution_count": 155,
   "id": "7600d8d0-22f5-41ef-8dc7-12036702f8ca",
   "metadata": {},
   "outputs": [
    {
     "name": "stdout",
     "output_type": "stream",
     "text": [
      "Friends count: 4\n",
      "All friends: Петя, Вася, Катя, Наташа\n",
      "Петя\n",
      "Вася\n",
      "Катя\n",
      "Наташа\n"
     ]
    }
   ],
   "source": [
    "class FriendCollection:\n",
    "    def __init__(self, my_friends: list[str], wife_friends: list[str]):\n",
    "        self._my_friends = my_friends\n",
    "        self._wife_friends = wife_friends\n",
    "    \n",
    "    @property\n",
    "    def _friends(self):\n",
    "        return self._my_friends + self._wife_friends\n",
    "\n",
    "    def __str__(self):\n",
    "        return ', '.join(self._friends)\n",
    "    \n",
    "    def __len__(self):\n",
    "        return len(self._friends)\n",
    "\n",
    "    def __iter__(self):\n",
    "        return iter(self._friends)\n",
    "\n",
    "    # def __setattr__(self):\n",
    "    #     raise NotImplemented()\n",
    "\n",
    "friends = FriendCollection(['Петя', 'Вася'], ['Катя', 'Наташа'])\n",
    "print(f'Friends count: {len(friends)}')\n",
    "print(f'All friends: {friends}')\n",
    "\n",
    "for friend in friends:\n",
    "    print(friend)"
   ]
  }
 ],
 "metadata": {
  "kernelspec": {
   "display_name": "Python 3 (ipykernel)",
   "language": "python",
   "name": "python3"
  },
  "language_info": {
   "codemirror_mode": {
    "name": "ipython",
    "version": 3
   },
   "file_extension": ".py",
   "mimetype": "text/x-python",
   "name": "python",
   "nbconvert_exporter": "python",
   "pygments_lexer": "ipython3",
   "version": "3.12.1"
  }
 },
 "nbformat": 4,
 "nbformat_minor": 5
}
