{
 "cells": [
  {
   "cell_type": "markdown",
   "id": "ec1a295a-1b1f-462a-a241-2b739e9ec40e",
   "metadata": {},
   "source": [
    "## Декораторы"
   ]
  },
  {
   "cell_type": "markdown",
   "id": "82860e57-2a42-429d-8792-7c2f62735b22",
   "metadata": {},
   "source": [
    "### Задача\n",
    "Выводить (логировать) входные и выходные данные функций, которые вычисляют стоимость"
   ]
  },
  {
   "cell_type": "code",
   "execution_count": 35,
   "id": "1239c5f4-d1cc-412c-82e7-6155fa670d5d",
   "metadata": {},
   "outputs": [
    {
     "name": "stdout",
     "output_type": "stream",
     "text": [
      "[Input] price = 8915, tax = 0.13\n",
      "market price = 8915 -> final price 8915\n",
      "[Input] price = 39123, tax = 0.13\n",
      "[Output] total = 44208.99\n",
      "market price = 39123 -> final price 44208.99\n",
      "[Input] price = 8915, tax = 0.13\n",
      "[Output] total = 9958.055\n",
      "market price = 8915 -> final price 9958.055\n",
      "[Input] price = 39123, tax = 0.13\n",
      "[Output] total = 43700.391\n",
      "market price = 39123 -> final price 43700.391\n"
     ]
    }
   ],
   "source": [
    "TAX_FREE_AMOUNT = 30000\n",
    "\n",
    "def calculate_final_price(price: float, tax: float = 0.13) -> float:\n",
    "    print(f'[Input] price = {price}, tax = {tax}')\n",
    "    if price <= TAX_FREE_AMOUNT:\n",
    "        return price\n",
    "    total = price + (price * tax)\n",
    "    print(f'[Output] total = {total}')\n",
    "    return total\n",
    "\n",
    "def calculate_price(price: float, tax: float = 0.13) -> float:\n",
    "    print(f'[Input] price = {price}, tax = {tax}')\n",
    "    total = price + (price * tax)*0.9\n",
    "    print(f'[Output] total = {total}')\n",
    "    return total\n",
    "\n",
    "\n",
    "for price in (8915, 39123):\n",
    "    print(f'market price = {price} -> final price {calculate_final_price(price)}')\n",
    "\n",
    "for price in (8915, 39123):\n",
    "    print(f'market price = {price} -> final price {calculate_price(price)}')"
   ]
  },
  {
   "cell_type": "markdown",
   "id": "ad915c1a-49e5-48da-93e8-181b53668035",
   "metadata": {},
   "source": [
    "## Попробуем оптимизировать\n",
    "#### А если подменить?\n",
    "<img src=\"img/decorator-apples.jpg\" width=400 height=400 />"
   ]
  },
  {
   "cell_type": "code",
   "execution_count": 45,
   "id": "0705aac5-f16c-4ffb-9d29-c37668e5df13",
   "metadata": {},
   "outputs": [
    {
     "name": "stdout",
     "output_type": "stream",
     "text": [
      "------- Decorator version ---------\n",
      "[Input] price = 8915, tax = 0.13\n",
      "[Output] total = 8915\n",
      "market price = 8915 -> final price 8915\n",
      "[Input] price = 39123, tax = 0.13\n",
      "[Output] total = 44208.99\n",
      "market price = 39123 -> final price 44208.99\n",
      "[Input] price = 8915, tax = 0.13\n",
      "[Output] total = 9958.055\n",
      "market price = 8915 -> final price 9958.055\n",
      "[Input] price = 39123, tax = 0.13\n",
      "[Output] total = 43700.391\n",
      "market price = 39123 -> final price 43700.391\n"
     ]
    }
   ],
   "source": [
    "print('------- Decorator version ---------')\n",
    "\n",
    "def calculate_final_price(price: str, tax: str = 0.13):\n",
    "    if price <= TAX_FREE_AMOUNT:\n",
    "        return price\n",
    "    return price + (price * tax)\n",
    "\n",
    "def calculate_price(price: str, tax: str = 0.13):\n",
    "    \"\"\"Calculate simple price\"\"\"\n",
    "    return price + (price * tax)*0.9\n",
    "\n",
    "\n",
    "# def logger_decorator(func):\n",
    "#     return func\n",
    "\n",
    "def logger_decorator(func):\n",
    "    def patched_func(price: str, tax: str = 0.13):\n",
    "        print(f'[Input] price = {price}, tax = {tax}')\n",
    "        total = func(price=price, tax=tax)\n",
    "        print(f'[Output] total = {total}')\n",
    "        return total\n",
    "    return patched_func\n",
    "\n",
    "\n",
    "logged_calculate_price = logger_decorator(calculate_price)\n",
    "logged_calculate_final_price = logger_decorator(calculate_final_price)\n",
    "\n",
    "for price in (8915, 39123):\n",
    "    print(f'market price = {price} -> final price {logged_calculate_final_price(price)}')\n",
    "\n",
    "for price in (8915, 39123):\n",
    "    print(f'market price = {price} -> final price {logged_calculate_price(price)}')"
   ]
  },
  {
   "cell_type": "code",
   "execution_count": 50,
   "id": "99a31350-9f91-455f-91f7-73d887318e2a",
   "metadata": {},
   "outputs": [
    {
     "name": "stdout",
     "output_type": "stream",
     "text": [
      "calculate_price -> patched_func\n",
      "Calculate simple price -> None\n"
     ]
    }
   ],
   "source": [
    "print(f'{calculate_price.__name__} -> {logged_calculate_price.__name__}')\n",
    "print(f'{calculate_price.__doc__} -> {logged_calculate_price.__doc__}')"
   ]
  },
  {
   "cell_type": "code",
   "execution_count": 56,
   "id": "8831119b-31fc-4897-ad2a-b262b546aeb5",
   "metadata": {},
   "outputs": [
    {
     "name": "stdout",
     "output_type": "stream",
     "text": [
      "------- Decorator version V2 ---------\n",
      "[Input] price = 8915, tax = 0.13\n",
      "[Output] total = 8915\n",
      "[Time] total = 0:00:00.000004\n",
      "market price = 8915 -> final price 8915\n",
      "[Input] price = 39123, tax = 0.13\n",
      "[Output] total = 44208.99\n",
      "[Time] total = 0:00:00.000001\n",
      "market price = 39123 -> final price 44208.99\n",
      "[Input] price = 8915, tax = 0.13\n",
      "[Output] total = 9958.055\n",
      "[Time] total = 0:00:00\n",
      "market price = 8915 -> final price 9958.055\n",
      "[Input] price = 39123, tax = 0.13\n",
      "[Output] total = 43700.391\n",
      "[Time] total = 0:00:00\n",
      "market price = 39123 -> final price 43700.391\n"
     ]
    }
   ],
   "source": [
    "print('------- Decorator version V2 ---------')\n",
    "\n",
    "import functools\n",
    "from datetime import datetime\n",
    "def logger_decorator(func):\n",
    "    @functools.wraps(func)\n",
    "    def wrapper(price: str, tax: str = 0.13):\n",
    "        print(f'[Input] price = {price}, tax = {tax}')\n",
    "        started_at = datetime.now()\n",
    "        total = func(price=price, tax=tax)\n",
    "        finished_at = datetime.now()\n",
    "        print(f'[Output] total = {total}')\n",
    "        print(f'[Time] total = {finished_at - started_at}')\n",
    "        return total\n",
    "    return wrapper\n",
    "\n",
    "\n",
    "@logger_decorator\n",
    "def calculate_final_price(price: str, tax: str = 0.13):\n",
    "    \"\"\"Super Help to calculate_final_price \"\"\"\n",
    "    if price <= TAX_FREE_AMOUNT:\n",
    "        return price\n",
    "    return price + (price * tax)\n",
    "\n",
    "@logger_decorator\n",
    "def calculate_price(price: str, tax: str = 0.13):\n",
    "    return price + (price * tax)*0.9\n",
    "\n",
    "\n",
    "for price in (8915, 39123):\n",
    "    print(f'market price = {price} -> final price {calculate_final_price(price)}')\n",
    "\n",
    "for price in (8915, 39123):\n",
    "    print(f'market price = {price} -> final price {calculate_price(price)}')\n"
   ]
  },
  {
   "cell_type": "code",
   "execution_count": 55,
   "id": "8a55b932-422e-425e-a274-25df10e56d92",
   "metadata": {},
   "outputs": [
    {
     "name": "stdout",
     "output_type": "stream",
     "text": [
      "wrapper\n",
      "None\n"
     ]
    }
   ],
   "source": [
    "print(f'{calculate_final_price.__name__}')\n",
    "print(f'{calculate_final_price.__doc__}')"
   ]
  },
  {
   "cell_type": "code",
   "execution_count": 62,
   "id": "6e0a3a1d-be78-4f40-a7ca-dfda7d537f20",
   "metadata": {},
   "outputs": [
    {
     "name": "stdout",
     "output_type": "stream",
     "text": [
      "------- Decorator version V3 ---------\n",
      "[Input] (8915,), {}\n",
      "[Output] total = 8915\n",
      "[Time] total = 0:00:00.000005\n",
      "market price = 8915 -> final price 8915\n",
      "[Input] (39123,), {}\n",
      "[Output] total = 44208.99\n",
      "[Time] total = 0:00:00.000001\n",
      "market price = 39123 -> final price 44208.99\n",
      "[Input] (8915,), {}\n",
      "[Output] total = 9958.055\n",
      "[Time] total = 0:00:00.000001\n",
      "market price = 8915 -> final price 9958.055\n",
      "[Input] (39123,), {}\n",
      "[Output] total = 43700.391\n",
      "[Time] total = 0:00:00.000001\n",
      "market price = 39123 -> final price 43700.391\n",
      "[Input] ('Heloo',), {}\n",
      "Heloo\n",
      "[Output] total = None\n",
      "[Time] total = 0:00:00.000004\n"
     ]
    }
   ],
   "source": [
    "\n",
    "print('------- Decorator version V3 ---------')\n",
    "\n",
    "import functools\n",
    "from datetime import datetime\n",
    "def logger_decorator(func):\n",
    "    @functools.wraps(func)\n",
    "    def wrapper(*args, **kwargs):\n",
    "        print(f'[Input] {args}, {kwargs}')\n",
    "        started_at = datetime.now()\n",
    "        total = func(*args, **kwargs)\n",
    "        finished_at = datetime.now()\n",
    "        print(f'[Output] total = {total}')\n",
    "        print(f'[Time] total = {finished_at - started_at}')\n",
    "        return total\n",
    "    return wrapper\n",
    "\n",
    "\n",
    "@logger_decorator\n",
    "def calculate_final_price(price: str, tax: str = 0.13):\n",
    "    \"\"\"Super Help to calculate_final_price \"\"\"\n",
    "    if price <= TAX_FREE_AMOUNT:\n",
    "        return price\n",
    "    return price + (price * tax)\n",
    "\n",
    "\n",
    "@logger_decorator\n",
    "def calculate_price(price: str):\n",
    "    tax = 0.13\n",
    "    return price + (price * tax)*0.9\n",
    "\n",
    "\n",
    "for price in (8915, 39123):\n",
    "    print(f'market price = {price} -> final price {calculate_final_price(price)}')\n",
    "\n",
    "for price in (8915, 39123):\n",
    "    print(f'market price = {price} -> final price {calculate_price(price)}')\n",
    "\n",
    "logged_print = logger_decorator(print)\n",
    "logged_print('Heloo')"
   ]
  },
  {
   "cell_type": "code",
   "execution_count": 63,
   "id": "09f1981e-de65-412d-9d2e-76e0e0258ea6",
   "metadata": {},
   "outputs": [
    {
     "name": "stdout",
     "output_type": "stream",
     "text": [
      "------- Decorator version V3 () ---------\n",
      "[Input] (8915,), {}\n",
      "[Output] total = 9958.055\n",
      "[Time] total = 0:00:00.000014\n",
      "market price = 8915 -> final price 9958.055\n",
      "[Input] (39123,), {}\n",
      "[Output] total = 43700.391\n",
      "[Time] total = 0:00:00.000001\n",
      "market price = 39123 -> final price 43700.391\n"
     ]
    }
   ],
   "source": [
    "print('------- Decorator version V3 () ---------')\n",
    "\n",
    "# def logger_decorator(func):\n",
    "#     @functools.wraps(func)\n",
    "#     def wrapper(*args, **kwargs):\n",
    "#         print(f'[Input] {args}, {kwargs}')\n",
    "#         started_at = datetime.now()\n",
    "#         total = func(*args, **kwargs)\n",
    "#         finished_at = datetime.now()\n",
    "#         print(f'[Output] total = {total}')\n",
    "#         print(f'[Time] total = {finished_at - started_at}')\n",
    "#         return total\n",
    "#     return wrapper\n",
    "\n",
    "import functools\n",
    "from datetime import datetime\n",
    "\n",
    "class logger_decorator:\n",
    "    def __init__(self, func):\n",
    "        self._func = func\n",
    "        \n",
    "    def __call__(self, *args, **kwargs):\n",
    "        print(f'[Input] {args}, {kwargs}')\n",
    "        started_at = datetime.now()\n",
    "        total = self._func(*args, **kwargs)\n",
    "        finished_at = datetime.now()\n",
    "        print(f'[Output] total = {total}')\n",
    "        print(f'[Time] total = {finished_at - started_at}')\n",
    "        return total\n",
    "\n",
    "@logger_decorator\n",
    "def calculate_price(price: str, tax: int = 0.13):\n",
    "    return price + (price * tax)*0.9\n",
    "\n",
    "\n",
    "for price in (8915, 39123):\n",
    "    print(f'market price = {price} -> final price {calculate_price(price)}')\n"
   ]
  },
  {
   "cell_type": "markdown",
   "id": "468eebf2-12fc-4ac8-8ba6-fa167038655f",
   "metadata": {},
   "source": [
    "#### Параметризованные декораторы"
   ]
  },
  {
   "cell_type": "code",
   "execution_count": 98,
   "id": "85579fd9-ab55-47bc-8d27-da1a77f8ca17",
   "metadata": {},
   "outputs": [
    {
     "name": "stdout",
     "output_type": "stream",
     "text": [
      "[Input] (8915,), {}\n",
      "[Output] total = 9958.055\n",
      "[Time] total = 16 microseconds\n",
      "market price = 8915 -> final price 16\n",
      "[Input] (39123,), {}\n",
      "[Output] total = 43700.391\n",
      "[Time] total = 0 microseconds\n",
      "market price = 39123 -> final price 0\n"
     ]
    }
   ],
   "source": [
    "import functools\n",
    "from datetime import datetime\n",
    "\n",
    "from enum import StrEnum\n",
    "\n",
    "\n",
    "class TotalTimeMeasure(StrEnum):\n",
    "    sec: str = 'sec'\n",
    "    microseconds: str = 'microseconds'\n",
    "\n",
    "\n",
    "def logger_decorator(measure):\n",
    "    def inner_decorator(func):\n",
    "        @functools.wraps(func)\n",
    "        def wrapper(*args, **kwargs):\n",
    "            print(f'[Input] {args}, {kwargs}')\n",
    "            started_at = datetime.now()\n",
    "            total = func(*args, **kwargs)\n",
    "            finished_at = datetime.now()\n",
    "            print(f'[Output] total = {total}')\n",
    "            diff = finished_at - started_at\n",
    "            total = diff.seconds if measure == measure.sec else diff.microseconds\n",
    "            print(f'[Time] total = {total} {measure.value}')\n",
    "            return total\n",
    "        return wrapper\n",
    "    return inner_decorator\n",
    "\n",
    "\n",
    "@logger_decorator(TotalTimeMeasure.microseconds)\n",
    "def calculate_price(price: str):\n",
    "    tax = 0.13\n",
    "    return price + (price * tax)*0.9\n",
    "\n",
    "\n",
    "for price in (8915, 39123):\n",
    "    print(f'market price = {price} -> final price {calculate_price(price)}')\n"
   ]
  },
  {
   "cell_type": "markdown",
   "id": "6cc8658a-2484-419b-8aa8-9b690a13f50d",
   "metadata": {},
   "source": [
    "#### Class-based decorator"
   ]
  },
  {
   "cell_type": "code",
   "execution_count": 110,
   "id": "93057ea3-5f7a-4031-adb1-4588badd5040",
   "metadata": {},
   "outputs": [
    {
     "name": "stdout",
     "output_type": "stream",
     "text": [
      "[Input] (8915,), {}\n",
      "[Output] total = 9958.055\n",
      "[Time] total = 14 microseconds\n",
      "market price = 8915 -> final price 9958.055\n",
      "[Input] (39123,), {}\n",
      "[Output] total = 43700.391\n",
      "[Time] total = 5 microseconds\n",
      "market price = 39123 -> final price 43700.391\n"
     ]
    }
   ],
   "source": [
    "# def logger_decorator(measure):\n",
    "#     def inner_decorator(func):\n",
    "#         @functools.wraps(func)\n",
    "#         def wrapper(*args, **kwargs):\n",
    "#             print(f'[Input] {args}, {kwargs}')\n",
    "#             started_at = datetime.now()\n",
    "#             total = func(*args, **kwargs)\n",
    "#             finished_at = datetime.now()\n",
    "#             print(f'[Output] total = {total}')\n",
    "#             diff = finished_at - started_at\n",
    "#             total = diff.seconds if measure == measure.sec else diff.microseconds\n",
    "#             print(f'[Time] total = {total} {measure.value}')\n",
    "#             return total\n",
    "#         return wrapper\n",
    "#     return inner_decorator\n",
    "\n",
    "class logger_decorator:\n",
    "    def __init__(self, measure):\n",
    "        self._measure = measure\n",
    "\n",
    "    def __call__(self, func):\n",
    "        @functools.wraps(func)\n",
    "        def wrapper(*args, **kwargs):\n",
    "            print(f'[Input] {args}, {kwargs}')\n",
    "            started_at = datetime.now()\n",
    "            total = func(*args, **kwargs)\n",
    "            self._print_after(total, started_at)\n",
    "            return total\n",
    "        return wrapper\n",
    "\n",
    "    def _get_total(self, diff):\n",
    "        return diff.seconds if self._measure == self._measure.sec else diff.microseconds\n",
    "\n",
    "    def _print_after(self, total, started_at):\n",
    "        print(f'[Output] total = {total}')\n",
    "        diff = datetime.now() - started_at\n",
    "        print(f'[Time] total = {self._get_total(diff)} {self._measure.value}')\n",
    "\n",
    "\n",
    "\n",
    "@logger_decorator(TotalTimeMeasure.microseconds)\n",
    "def calculate_price(price: str):\n",
    "    tax = 0.13\n",
    "    return price + (price * tax)*0.9\n",
    "\n",
    "\n",
    "for price in (8915, 39123):\n",
    "    print(f'market price = {price} -> final price {calculate_price(price)}')\n"
   ]
  },
  {
   "cell_type": "code",
   "execution_count": 105,
   "id": "6d3442ff-0a0f-4950-93e0-d19e966c667c",
   "metadata": {},
   "outputs": [
    {
     "name": "stdout",
     "output_type": "stream",
     "text": [
      "[Input] (100500,), {}\n",
      "[Output] total = 112258.5\n",
      "[Time] total = 19 microseconds\n"
     ]
    },
    {
     "data": {
      "text/plain": [
       "19"
      ]
     },
     "execution_count": 105,
     "metadata": {},
     "output_type": "execute_result"
    }
   ],
   "source": [
    "def calculate_price(price: str):\n",
    "    tax = 0.13\n",
    "    return price + (price * tax)*0.9\n",
    "\n",
    "\n",
    "decorator = logger_decorator(TotalTimeMeasure.microseconds)\n",
    "decorated_calculate_price = decorator(calculate_price)\n",
    "decorated_calculate_price(100500)"
   ]
  }
 ],
 "metadata": {
  "kernelspec": {
   "display_name": "Python 3 (ipykernel)",
   "language": "python",
   "name": "python3"
  },
  "language_info": {
   "codemirror_mode": {
    "name": "ipython",
    "version": 3
   },
   "file_extension": ".py",
   "mimetype": "text/x-python",
   "name": "python",
   "nbconvert_exporter": "python",
   "pygments_lexer": "ipython3",
   "version": "3.12.1"
  }
 },
 "nbformat": 4,
 "nbformat_minor": 5
}
