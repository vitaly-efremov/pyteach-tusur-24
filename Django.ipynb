{
 "cells": [
  {
   "cell_type": "markdown",
   "id": "8d58aee6-dabd-4789-8e67-98506d88371b",
   "metadata": {},
   "source": [
    "# Django"
   ]
  },
  {
   "cell_type": "markdown",
   "id": "b87f02ee-daf7-413b-8c19-8a02790b500f",
   "metadata": {},
   "source": [
    "### Цель работы. \n",
    "Подготовить веб-страницу при помощи популярного фреймворка быстрой разработки Django в условиях командной разработки с использованием системы контроля версий Git.\n"
   ]
  },
  {
   "cell_type": "markdown",
   "id": "c2473e8e-4849-452d-9908-d2aaa4c5c2fc",
   "metadata": {},
   "source": [
    "### Теоретический материал"
   ]
  },
  {
   "cell_type": "markdown",
   "id": "bb21efad-9055-430c-836c-62282d9e3c14",
   "metadata": {},
   "source": [
    "**Фреймворк Django** – это интегрированная система (или среда) для разработки веб-приложений на языке Python. Один из основных принципов фреймворка – DRY (англ. Don't repeat yourself). \n",
    "\n",
    "Архитектура Django представлена на рис. 1.\n",
    "<img src='Django_arch.png'/>\n"
   ]
  },
  {
   "cell_type": "markdown",
   "id": "567ccb78-a698-42d9-a236-9e9882b874c5",
   "metadata": {},
   "source": [
    "Архитектура Django похожа на «Модель-Представление-Контроллер» (MVC). \n",
    "\n",
    "Контроллер классической модели MVC примерно соответствует уровню, который в Django называется Представление (**views.py**), а презентационная логика Представления реализуется в Django уровнем Шаблонов (**templates**).\n",
    "\n",
    "**Установка**: pip install Django\n",
    "\n",
    "**Основные команды фреймворка Django**:\n",
    "- создать новый проект: **django-admin startproject example**\n",
    "- перейти в папку example – **cd example**\n",
    "- запустить локальный web-сервер – **python manage.py runserver**\n",
    "- cоздать приложение: **python manage.py startapp university**\n",
    "- создать супер-пользователя для admin: **python manage.py createsuperuser**"
   ]
  },
  {
   "cell_type": "markdown",
   "id": "e1573560-d57e-49dc-a249-4b0c2380d3f8",
   "metadata": {},
   "source": [
    "Django предоставляет разработчикам возможность использовать **ORM**. \n",
    "\n",
    "**ORM (object-relational mapping, объектно-реляционное отображение)** – технология программирования, которая связывает базы данных с концепциями объектно-ориентированных языков программирования, создавая «виртуальную объектную базу данных». \n",
    "\n",
    "К преимуществам ORM можно отнести: \n",
    " - *переносимость*, \n",
    " - *безопасность*, \n",
    " - *независимость от СУБД*\n",
    " - *простота применения*.\n",
    "\n",
    "Все модели (таблицы в базе данных) представляют собой класс (обычно в models.py), наследующий **django.db.models.Model**. \n",
    "\n",
    "Пример создания модели Student (SQL-эквивалент создания таблицы):\n",
    "```\n",
    "CREATE TABLE \"app_student\"(\n",
    "    \"id\" serial NOT NULL PRIMARY KEY,\n",
    "    \"name\" varchar(30) NOT NULL,\n",
    "    \"email\" varchar(75) NOT NULL,\n",
    "    \"group_number\" integer NOT NULL\n",
    ");\n",
    "```"
   ]
  },
  {
   "cell_type": "code",
   "execution_count": null,
   "id": "99c171ef-c1e3-4f7d-829f-cc198fa11662",
   "metadata": {},
   "outputs": [],
   "source": [
    "from django.db import models\n",
    "\n",
    "\n",
    "class Student(models.Model):\n",
    "    name = models.CharField(max_length=30)\n",
    "    email = models.EmailField(blank=True)\n",
    "    group_number = models.IntegerField()\n"
   ]
  },
  {
   "cell_type": "markdown",
   "id": "542c0aa6-e08e-4dc5-8031-78c6baf9f186",
   "metadata": {},
   "source": [
    "#### Основные методы, используемые при работе с ORM.\n",
    "\n",
    "**Cоздание миграций**: python manage.py makemigrations\n",
    "\n",
    "**Применение миграций**: python manage.py migrate\n",
    "\n",
    "\n",
    "**Cоздание объекта** (записи в таблице):\n",
    "```\n",
    "Student.objects.create(name=\"Ivanov I.I.\", email=\"ivanov@ivanovy.com\", group_number=128)\n",
    "```\n",
    "\n",
    "**Удаление объектов**: \n",
    "```\n",
    "Student.objects.filter(id=1).delete()\n",
    "```\n",
    "\n",
    "**Обновление объектов**:\n",
    "```\n",
    "Student.objects.filter(id=1).update(name=\"Ivanov F.F.\")\n",
    "```\n",
    "\n",
    "**Получение всех объектов** (записей из таблицы): \n",
    "```\n",
    "Student.objects.all()\n",
    "```\n",
    "\n",
    "**Получение определенных объектов** (фильтрация):\n",
    "```\n",
    "Student.objects.filter(group_number=128)\n",
    "```\n",
    "\n",
    "Более подробную информацию можно найти в документации Django – https://docs.djangoproject.com/en/5.0/topics/db/ .\n"
   ]
  },
  {
   "cell_type": "code",
   "execution_count": null,
   "id": "dd869ab5-db59-46dc-a84c-b96aa6814b24",
   "metadata": {},
   "outputs": [],
   "source": []
  },
  {
   "cell_type": "markdown",
   "id": "479eb065-1a82-48da-8d73-1181db6169d1",
   "metadata": {},
   "source": [
    "## Задание\n",
    "1. Создать репозиторий на Github.com.\n",
    "2. Создать Django-проект и настроить систему контроля версий для использования репозитория, созданного ранее.\n",
    "3. Внутри проекта создать файл models.py, в котором необходимо создать модели (таблицы) базы данных (обязательное использование внешних ключей).\n",
    "4. Синхронизировать базу данных для создания таблиц (ORM-моделей): python manage.py migrate .\n",
    "5. Создать Web-приложение, реализующее выбранную предметную область, которой созданы ORM-модели (таблицы в базе данных). \n",
    "Примером может послужить Web-приложение (https://github.com/vitaly-efremov/django-primer или https://github.com/vitaly-efremov/django-vuejs-boilerplate).\n",
    "6. Разместить созданный проект в репозитории, созданном в пункте 1. Рекомендуется вносить изменения регулярно – не менее 3-4 изменений в удаленном репозитории.\n",
    "\n",
    "## Пример предметной области\n",
    "### Система учета успеваемости студентов.\n",
    "Функционал:\n",
    " - создание/редактирование/удаление записей о студентах\n",
    " - создание/редактирование/удаление записей о предметах\n",
    " - создание/редактирование/удаление записей об оценках\n",
    " - предоставление информации (отчет) об успеваемости студентов: лучший студент и худший и \n",
    " - расчет средних балов по дисциплинам и студентам\n",
    " \n",
    "Примером может быть проект: https://github.com/vitaly-efremov/django-primer\n",
    "\n",
    "\n",
    "#### Источники\n",
    "- Ветвление в Git // Git Book [Электронный ресурс]. — Режим доступа: http://git-scm.com/book/en/Git-Branching.\n",
    "- Документация к фреймворку Django // Django [Электронный ресурс]. — Режим доступа: https://www.djangoproject.com.\n",
    "- Документация к языку Python // Python Documentation [Электронный ресурс]. — Режим доступа: https://docs.python.org/3/."
   ]
  }
 ],
 "metadata": {
  "kernelspec": {
   "display_name": "Python 3 (ipykernel)",
   "language": "python",
   "name": "python3"
  },
  "language_info": {
   "codemirror_mode": {
    "name": "ipython",
    "version": 3
   },
   "file_extension": ".py",
   "mimetype": "text/x-python",
   "name": "python",
   "nbconvert_exporter": "python",
   "pygments_lexer": "ipython3",
   "version": "3.12.1"
  }
 },
 "nbformat": 4,
 "nbformat_minor": 5
}
